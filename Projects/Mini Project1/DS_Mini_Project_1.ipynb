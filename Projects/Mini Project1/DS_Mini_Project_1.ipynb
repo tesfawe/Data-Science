{
 "cells": [
  {
   "cell_type": "markdown",
   "metadata": {
    "id": "NniSHKoKWWhW"
   },
   "source": [
    "Author: Tesfay Welegebreal Tesfay\n",
    "\n",
    "\n",
    "# Data Science - Mini Project 1\n",
    "\n",
    "### Autumn 2024\n",
    "\n",
    "### AAU\n",
    "\n",
    "NB: This code is written using Jupyter Notebook, not Google Colab. And the graph color on the report and on the output may not be the same. "
   ]
  },
  {
   "cell_type": "markdown",
   "metadata": {
    "id": "LUpbVINNV6ED"
   },
   "source": [
    "### Installation"
   ]
  },
  {
   "cell_type": "code",
   "execution_count": 7,
   "metadata": {
    "colab": {
     "base_uri": "https://localhost:8080/"
    },
    "id": "6ZVPcO3CsDXW",
    "outputId": "978ebf79-7141-46f9-e8bd-c02409039968",
    "scrolled": false
   },
   "outputs": [
    {
     "name": "stdout",
     "output_type": "stream",
     "text": [
      "Requirement already satisfied: beautifulsoup4 in /home/tesphi/anaconda3/lib/python3.9/site-packages (4.10.0)\n",
      "Requirement already satisfied: soupsieve>1.2 in /home/tesphi/anaconda3/lib/python3.9/site-packages (from beautifulsoup4) (2.4)\n",
      "\n",
      "\u001b[1m[\u001b[0m\u001b[34;49mnotice\u001b[0m\u001b[1;39;49m]\u001b[0m\u001b[39;49m A new release of pip is available: \u001b[0m\u001b[31;49m23.3.1\u001b[0m\u001b[39;49m -> \u001b[0m\u001b[32;49m24.2\u001b[0m\n",
      "\u001b[1m[\u001b[0m\u001b[34;49mnotice\u001b[0m\u001b[1;39;49m]\u001b[0m\u001b[39;49m To update, run: \u001b[0m\u001b[32;49mpip install --upgrade pip\u001b[0m\n",
      "Requirement already satisfied: requests in /home/tesphi/anaconda3/lib/python3.9/site-packages (2.31.0)\n",
      "Requirement already satisfied: charset-normalizer<4,>=2 in /home/tesphi/anaconda3/lib/python3.9/site-packages (from requests) (2.0.4)\n",
      "Requirement already satisfied: idna<4,>=2.5 in /home/tesphi/anaconda3/lib/python3.9/site-packages (from requests) (3.4)\n",
      "Requirement already satisfied: urllib3<3,>=1.21.1 in /home/tesphi/anaconda3/lib/python3.9/site-packages (from requests) (2.0.5)\n",
      "Requirement already satisfied: certifi>=2017.4.17 in /home/tesphi/anaconda3/lib/python3.9/site-packages (from requests) (2023.7.22)\n",
      "\n",
      "\u001b[1m[\u001b[0m\u001b[34;49mnotice\u001b[0m\u001b[1;39;49m]\u001b[0m\u001b[39;49m A new release of pip is available: \u001b[0m\u001b[31;49m23.3.1\u001b[0m\u001b[39;49m -> \u001b[0m\u001b[32;49m24.2\u001b[0m\n",
      "\u001b[1m[\u001b[0m\u001b[34;49mnotice\u001b[0m\u001b[1;39;49m]\u001b[0m\u001b[39;49m To update, run: \u001b[0m\u001b[32;49mpip install --upgrade pip\u001b[0m\n"
     ]
    }
   ],
   "source": [
    "!pip install beautifulsoup4\n",
    "!pip install requests"
   ]
  },
  {
   "cell_type": "markdown",
   "metadata": {
    "id": "EQ7UyJgvWKWN"
   },
   "source": [
    "### Importing important libraries"
   ]
  },
  {
   "cell_type": "code",
   "execution_count": 8,
   "metadata": {
    "id": "HCmszl4QsTgR"
   },
   "outputs": [],
   "source": [
    "import requests\n",
    "from bs4 import BeautifulSoup as bs"
   ]
  },
  {
   "cell_type": "markdown",
   "metadata": {
    "id": "hjuvDS3DWXwa"
   },
   "source": [
    "### Checking if I can connect to the website"
   ]
  },
  {
   "cell_type": "code",
   "execution_count": 9,
   "metadata": {
    "colab": {
     "base_uri": "https://localhost:8080/"
    },
    "id": "BJUrJS0Hgg99",
    "outputId": "74cdf62e-30ed-4986-91a3-195c2221e406",
    "scrolled": true
   },
   "outputs": [
    {
     "name": "stdout",
     "output_type": "stream",
     "text": [
      "Success\n"
     ]
    }
   ],
   "source": [
    "r = requests.get(\"https://www.skinnytaste.com/recipe-index/?_paged=1\")\n",
    "if r.status_code == 200:\n",
    "  print(\"Success\")\n",
    "else:\n",
    "  print(\"Failure\")"
   ]
  },
  {
   "cell_type": "markdown",
   "metadata": {
    "id": "m5BoXvjtWlsQ"
   },
   "source": [
    "### Scraping the data of the ﬁrst 50 pages and filtering interesting data"
   ]
  },
  {
   "cell_type": "code",
   "execution_count": 54,
   "metadata": {
    "colab": {
     "base_uri": "https://localhost:8080/",
     "height": 211
    },
    "id": "9vr4grn5g9jk",
    "outputId": "c4e2ed06-d9a6-4be4-f4ba-e05a428daa88"
   },
   "outputs": [],
   "source": [
    "# URL of the page\n",
    "food_name_list = []\n",
    "food_image_list = []\n",
    "food_calories_list = []\n",
    "food_sammary_list =[]\n",
    "recipe_points_list = []\n",
    "recipe_key_list = []\n",
    "# Adding the URL to each recipe, if the user wants to see more about the recipe by clicking the name \n",
    "# or image of the recipe in the user interaction part \n",
    "recipe_url_list = []\n",
    "\n",
    "for i in range(1, 51):\n",
    "  url = f'https://www.skinnytaste.com/recipe-index/?_paged={i}'\n",
    "  # Get the page content\n",
    "  response = requests.get(url)\n",
    "\n",
    "  # Parse the content with BeautifulSoup\n",
    "  soup = bs(response.text, 'html.parser')\n",
    "\n",
    "  # Find the sections that contain the recipe data\n",
    "  articles = soup.find_all('article')\n",
    "\n",
    "#   I haven't understood why this has to be like that, but the for loop should start from 1, not 0.\n",
    "#   I would like to hear why - it was pretty challenging for me :) \n",
    "  for i in range(1, len(articles)):\n",
    "    points = articles[i].find('div', class_= 'wprm-ww-points')\n",
    "    \n",
    "    # Filtering the recipes by avoiding the blogs or articles in the pages\n",
    "    if points:\n",
    "      points = int(points.text.strip())\n",
    "      recipe = articles[i].find('h2', class_ = 'entry-title')\n",
    "      name = recipe.find('a').text.strip()\n",
    "      recipe_url = recipe.find('a')['href']\n",
    "      recipe_keys = articles[0].find('ul', class_ = 'cat-icons post-icons')\n",
    "      keys = []\n",
    "      if(recipe_keys):\n",
    "        recipe_key = recipe_keys.find_all('li')\n",
    "        for key in recipe_key:\n",
    "          keys.append(key.text.strip())\n",
    "      recipe_image = articles[i].find('img', class_='attachment-teaser size-teaser wp-post-image')['src']\n",
    "      name = recipe.find('a').text.strip()\n",
    "      recipe_soup = bs(requests.get(recipe_url).text, 'html.parser')\n",
    "      recipe_cal = float(recipe_soup.find('span', class_= 'recipe-meta-value value-calories').text.replace('Cals:', '').strip())\n",
    "      summary = recipe_soup.find('p').text.strip()\n",
    "      food_name_list.append(name)\n",
    "      food_image_list.append(recipe_image)\n",
    "      food_calories_list.append(recipe_cal)\n",
    "      food_sammary_list.append(summary)\n",
    "      recipe_points_list.append(points)\n",
    "      recipe_key_list.append(keys)\n",
    "      recipe_url_list.append(recipe_url)"
   ]
  },
  {
   "cell_type": "markdown",
   "metadata": {
    "id": "Bf0LjiDQW8yn"
   },
   "source": [
    "### Transforming the scraped data into DataFram"
   ]
  },
  {
   "cell_type": "code",
   "execution_count": 55,
   "metadata": {
    "colab": {
     "base_uri": "https://localhost:8080/"
    },
    "id": "-Q9hCAoxj0ga",
    "outputId": "25c64a98-7e08-410d-9639-5084eb3f9f8c"
   },
   "outputs": [],
   "source": [
    "import pandas as pd\n",
    "\n",
    "df = pd.DataFrame({'Name': food_name_list, 'Cal': food_calories_list,  'Points': recipe_points_list,\n",
    "                   'Keys': recipe_key_list, 'Image': food_image_list, 'Summary': food_sammary_list, 'Url':recipe_url_list})\n"
   ]
  },
  {
   "cell_type": "markdown",
   "metadata": {
    "id": "VscGYqUVudne"
   },
   "source": [
    "### Save the data as CSV file for future use"
   ]
  },
  {
   "cell_type": "code",
   "execution_count": 56,
   "metadata": {
    "id": "lctGa16CugW7"
   },
   "outputs": [],
   "source": [
    "df.to_csv(\"recipe_data.csv\", index=False)"
   ]
  },
  {
   "cell_type": "markdown",
   "metadata": {
    "id": "Zf2lKWqJyP64"
   },
   "source": [
    "### Preparing or reading the saved recipe data for use"
   ]
  },
  {
   "cell_type": "code",
   "execution_count": 57,
   "metadata": {
    "id": "qPQIMdHVyhiy"
   },
   "outputs": [
    {
     "data": {
      "text/plain": [
       "(938, 7)"
      ]
     },
     "execution_count": 57,
     "metadata": {},
     "output_type": "execute_result"
    }
   ],
   "source": [
    "data = pd.read_csv(\"recipe_data.csv\")\n",
    "df.shape"
   ]
  },
  {
   "cell_type": "markdown",
   "metadata": {
    "id": "q0pdtrn3XPEv"
   },
   "source": [
    "### EDA and Visualisation\n",
    "\n",
    "1.   Calories distribution\n",
    "2.   Recipe key distribution\n",
    "3.   Points distribution"
   ]
  },
  {
   "cell_type": "markdown",
   "metadata": {
    "id": "OXFLt6ySXgqw"
   },
   "source": [
    "### 1.   Calories distribution"
   ]
  },
  {
   "cell_type": "code",
   "execution_count": 58,
   "metadata": {
    "colab": {
     "base_uri": "https://localhost:8080/",
     "height": 564
    },
    "id": "Vy-CG6uoErZD",
    "outputId": "f84538de-df0e-4650-8897-b59586d68a34",
    "scrolled": true
   },
   "outputs": [
    {
     "data": {
      "image/png": "[encoded data removed]",
      "text/plain": [
       "<Figure size 800x600 with 1 Axes>"
      ]
     },
     "metadata": {},
     "output_type": "display_data"
    }
   ],
   "source": [
    "%matplotlib inline\n",
    "import matplotlib.pyplot  as plt\n",
    "import seaborn as sns\n",
    "\n",
    "sns.set_palette(\"Set1\")\n",
    "\n",
    "plt.figure(figsize=(8, 6))\n",
    "# Replace the df['Cal'] by data['Cal'] to use from the CSV\n",
    "sns.histplot(df['Cal'], bins=10, kde=True)\n",
    "plt.title('Calories Distribution')\n",
    "plt.xlabel('Calories')\n",
    "plt.ylabel('Frequency')\n",
    "plt.show()\n"
   ]
  },
  {
   "cell_type": "markdown",
   "metadata": {
    "id": "ctdZNnLrXuef"
   },
   "source": [
    "### 2.   Points Distribution"
   ]
  },
  {
   "cell_type": "code",
   "execution_count": 59,
   "metadata": {
    "colab": {
     "base_uri": "https://localhost:8080/",
     "height": 564
    },
    "id": "hC3ySGhlwWrQ",
    "outputId": "b2421719-ab60-469d-dd42-20f033a8f02b"
   },
   "outputs": [
    {
     "data": {
      "image/png": "[encoded data removed]",
      "text/plain": [
       "<Figure size 800x600 with 1 Axes>"
      ]
     },
     "metadata": {},
     "output_type": "display_data"
    }
   ],
   "source": [
    "plt.figure(figsize=(8, 6))\n",
    "\n",
    "# Replace the df['Points'] by data['Points'] to use from the CSV\n",
    "sns.histplot(df['Points'], bins=10, kde=True)\n",
    "plt.title('Points Distribution')\n",
    "plt.xlabel('Points')\n",
    "plt.ylabel('Frequency')\n",
    "plt.show()\n"
   ]
  },
  {
   "cell_type": "markdown",
   "metadata": {
    "id": "83MbUS5SX61c"
   },
   "source": [
    "### 3.   Recipe Keys Distribution"
   ]
  },
  {
   "cell_type": "code",
   "execution_count": 60,
   "metadata": {
    "colab": {
     "base_uri": "https://localhost:8080/",
     "height": 574
    },
    "id": "skhixf8R3qXn",
    "outputId": "6d6973b6-2847-42c9-8ff8-2e9e2ea6c964"
   },
   "outputs": [
    {
     "data": {
      "image/png": "[encoded data removed]",
      "text/plain": [
       "<Figure size 800x600 with 1 Axes>"
      ]
     },
     "metadata": {},
     "output_type": "display_data"
    }
   ],
   "source": [
    "import numpy as np\n",
    "import ast\n",
    "\n",
    "# Step 1: Explode the recipe keys\n",
    "\n",
    "# If Keys contains NaN, assign an empty list to ensure the explosion works without errors.\n",
    "# Uncomment the line below to use from the CSV file\n",
    "# data['new_keys'] = data['Keys'].map(lambda x: ast.literal_eval(x) if isinstance(x, str) else [])\n",
    "\n",
    "# Replace the df.exploded['Keys'] by data.exploded['new_keys'] to use from the CSV\n",
    "df_exploded = df.explode('Keys')\n",
    "\n",
    "# Step 2: Count occurrences of each recipe key\n",
    "\n",
    "# Replace the df_exploded['Keys'] by df_exploded['new_keys'] to use from the CSV\n",
    "recipe_key_counts = df_exploded['Keys'].value_counts()\n",
    "\n",
    "# Step 3: Visualize\n",
    "\n",
    "plt.figure(figsize=(8, 6))\n",
    "sns.barplot(x=recipe_key_counts.index, y=recipe_key_counts.values)\n",
    "plt.title('Recipe Keys Distribution')\n",
    "plt.xlabel('Recipe Key')\n",
    "plt.ylabel('Count')\n",
    "plt.xticks(rotation=45)\n",
    "plt.show()\n",
    "\n"
   ]
  },
  {
   "cell_type": "markdown",
   "metadata": {
    "id": "tdsuSxDIYKxO"
   },
   "source": [
    "### User interaction"
   ]
  },
  {
   "cell_type": "code",
   "execution_count": 61,
   "metadata": {
    "colab": {
     "base_uri": "https://localhost:8080/",
     "height": 1000
    },
    "id": "GK--hGK74-Wt",
    "outputId": "573fe184-bd00-4f2e-eb5d-3a5fed4e289b"
   },
   "outputs": [
    {
     "name": "stdout",
     "output_type": "stream",
     "text": [
      "Enter minimum calorie value: 1\n",
      "Enter maximum calorie value: 1400\n",
      "Enter minimum point value: 1\n",
      "Enter maximum point value: 14\n",
      "\n",
      "======================= RESULTS=========================\n",
      "\n"
     ]
    },
    {
     "data": {
      "text/html": [
       "\n",
       "      <div style=\"display: flex; align-items: center; margin-bottom: 20px;\">\n",
       "          <a href=https://www.skinnytaste.com/sheet-pan-thanksgiving-dinner/ target=\"_blank\" rel=\"noopener noreferrer\">\n",
       "              <img src=\"https://www.skinnytaste.com/wp-content/uploads/2022/11/Sheet-Pan-Thanksgiving-7-copy-260x390.jpg\" alt=\"Sheet Pan Thanksgiving Dinner for Four\" style=\"width: 200px; height: auto; margin-right: 20px;\">\n",
       "          </a>\n",
       "          <div>\n",
       "              <a href=https://www.skinnytaste.com/sheet-pan-thanksgiving-dinner/ target=\"_blank\" rel=\"noopener noreferrer\" style=\"text-decoration:none\">\n",
       "                  <h4 style=\"font-size:18px\"> <strong>Sheet Pan Thanksgiving Dinner for Four</strong></h4><br>\n",
       "              </a>\n",
       "              <i><strong>Calories:</strong></i> 608.0<br>\n",
       "              <i><strong>Points:</strong></i> 10<br>\n",
       "              <!-- Replace GF, KF, Q by ['GF', 'KF', 'Q'] to use from CSV --> \n",
       "              <i><strong>Recipe Keys:</strong></i> GF, KF, Q<br><br>\n",
       "              <i><strong>Summary:</strong></i> This easy Sheet Pan Thanksgiving dinner for four is made with roast turkey breast, maple-glazed sweet potatoes, and Brussels sprouts.<br>\n",
       "          </div>\n",
       "      </div>\n",
       "      "
      ],
      "text/plain": [
       "<IPython.core.display.HTML object>"
      ]
     },
     "metadata": {},
     "output_type": "display_data"
    },
    {
     "data": {
      "text/html": [
       "\n",
       "      <div style=\"display: flex; align-items: center; margin-bottom: 20px;\">\n",
       "          <a href=https://www.skinnytaste.com/beef-stew-with-pumpkin/ target=\"_blank\" rel=\"noopener noreferrer\">\n",
       "              <img src=\"https://www.skinnytaste.com/wp-content/uploads/2021/09/Beef-Stew-with-Pumpkin-8-260x390.jpg\" alt=\"Beef Stew with Pumpkin\" style=\"width: 200px; height: auto; margin-right: 20px;\">\n",
       "          </a>\n",
       "          <div>\n",
       "              <a href=https://www.skinnytaste.com/beef-stew-with-pumpkin/ target=\"_blank\" rel=\"noopener noreferrer\" style=\"text-decoration:none\">\n",
       "                  <h4 style=\"font-size:18px\"> <strong>Beef Stew with Pumpkin</strong></h4><br>\n",
       "              </a>\n",
       "              <i><strong>Calories:</strong></i> 600.0<br>\n",
       "              <i><strong>Points:</strong></i> 10<br>\n",
       "              <!-- Replace V by ['V'] to use from CSV --> \n",
       "              <i><strong>Recipe Keys:</strong></i> V<br><br>\n",
       "              <i><strong>Summary:</strong></i> This hearty beef stew recipe cooks low and slow on the stove with pumpkin (or butternut/acorn squash) added when the beef is tender. Serve with crusty bread to soak up every last drop!<br>\n",
       "          </div>\n",
       "      </div>\n",
       "      "
      ],
      "text/plain": [
       "<IPython.core.display.HTML object>"
      ]
     },
     "metadata": {},
     "output_type": "display_data"
    },
    {
     "data": {
      "text/html": [
       "\n",
       "      <div style=\"display: flex; align-items: center; margin-bottom: 20px;\">\n",
       "          <a href=https://www.skinnytaste.com/baked-chicken-thighs-with-brussels-sprouts-and-sweet-potato/ target=\"_blank\" rel=\"noopener noreferrer\">\n",
       "              <img src=\"https://www.skinnytaste.com/wp-content/uploads/2019/11/Chicken-Thighs-with-Brussels-and-Sweet-Potato-1-4-260x390.jpg\" alt=\"Baked Chicken Thighs with Brussels and Sweet Potato\" style=\"width: 200px; height: auto; margin-right: 20px;\">\n",
       "          </a>\n",
       "          <div>\n",
       "              <a href=https://www.skinnytaste.com/baked-chicken-thighs-with-brussels-sprouts-and-sweet-potato/ target=\"_blank\" rel=\"noopener noreferrer\" style=\"text-decoration:none\">\n",
       "                  <h4 style=\"font-size:18px\"> <strong>Baked Chicken Thighs with Brussels and Sweet Potato</strong></h4><br>\n",
       "              </a>\n",
       "              <i><strong>Calories:</strong></i> 587.0<br>\n",
       "              <i><strong>Points:</strong></i> 11<br>\n",
       "              <!-- Replace DF, GF, HF, KF, W by ['DF', 'GF', 'HF', 'KF', 'W'] to use from CSV --> \n",
       "              <i><strong>Recipe Keys:</strong></i> DF, GF, HF, KF, W<br><br>\n",
       "              <i><strong>Summary:</strong></i> Baked Chicken Thighs with Brussels Sprouts and Sweet Potato, a quick and easy one-pot chicken dinner for a chilly, fall night.<br>\n",
       "          </div>\n",
       "      </div>\n",
       "      "
      ],
      "text/plain": [
       "<IPython.core.display.HTML object>"
      ]
     },
     "metadata": {},
     "output_type": "display_data"
    },
    {
     "data": {
      "text/html": [
       "\n",
       "      <div style=\"display: flex; align-items: center; margin-bottom: 20px;\">\n",
       "          <a href=https://www.skinnytaste.com/sweet-potato-black-bean-bowls/ target=\"_blank\" rel=\"noopener noreferrer\">\n",
       "              <img src=\"https://www.skinnytaste.com/wp-content/uploads/2022/02/Roasted-Sweet-Potato-and-Chipotle-Black-Bean-Bowls-8-2-260x390.jpg\" alt=\"Roasted Sweet Potato Black Bean Bowls\" style=\"width: 200px; height: auto; margin-right: 20px;\">\n",
       "          </a>\n",
       "          <div>\n",
       "              <a href=https://www.skinnytaste.com/sweet-potato-black-bean-bowls/ target=\"_blank\" rel=\"noopener noreferrer\" style=\"text-decoration:none\">\n",
       "                  <h4 style=\"font-size:18px\"> <strong>Roasted Sweet Potato Black Bean Bowls</strong></h4><br>\n",
       "              </a>\n",
       "              <i><strong>Calories:</strong></i> 585.0<br>\n",
       "              <i><strong>Points:</strong></i> 11<br>\n",
       "              <!-- Replace FM, GF, KF, MP, W by ['FM', 'GF', 'KF', 'MP', 'W'] to use from CSV --> \n",
       "              <i><strong>Recipe Keys:</strong></i> FM, GF, KF, MP, W<br><br>\n",
       "              <i><strong>Summary:</strong></i> These Roasted Sweet Potato Black Bean Bowls with Cream Chipotle Sauce are a delicious plant based meal, also great for vegetarian meal prep.<br>\n",
       "          </div>\n",
       "      </div>\n",
       "      "
      ],
      "text/plain": [
       "<IPython.core.display.HTML object>"
      ]
     },
     "metadata": {},
     "output_type": "display_data"
    },
    {
     "data": {
      "text/html": [
       "\n",
       "      <div style=\"display: flex; align-items: center; margin-bottom: 20px;\">\n",
       "          <a href=https://www.skinnytaste.com/white-bean-scampi-with-linguine/ target=\"_blank\" rel=\"noopener noreferrer\">\n",
       "              <img src=\"https://www.skinnytaste.com/wp-content/uploads/2023/01/Vegetarian-Cannellini-Scampi-with-Linguine-6-260x390.jpg\" alt=\"White Bean Scampi with Linguine\" style=\"width: 200px; height: auto; margin-right: 20px;\">\n",
       "          </a>\n",
       "          <div>\n",
       "              <a href=https://www.skinnytaste.com/white-bean-scampi-with-linguine/ target=\"_blank\" rel=\"noopener noreferrer\" style=\"text-decoration:none\">\n",
       "                  <h4 style=\"font-size:18px\"> <strong>White Bean Scampi with Linguine</strong></h4><br>\n",
       "              </a>\n",
       "              <i><strong>Calories:</strong></i> 571.0<br>\n",
       "              <i><strong>Points:</strong></i> 8<br>\n",
       "              <!-- Replace GF, LC, MP, Q by ['GF', 'LC', 'MP', 'Q'] to use from CSV --> \n",
       "              <i><strong>Recipe Keys:</strong></i> GF, LC, MP, Q<br><br>\n",
       "              <i><strong>Summary:</strong></i> This white bean scampi served over whole-wheat linguine provides a high-fiber, vegetarian alternative to shrimp scampi.<br>\n",
       "          </div>\n",
       "      </div>\n",
       "      "
      ],
      "text/plain": [
       "<IPython.core.display.HTML object>"
      ]
     },
     "metadata": {},
     "output_type": "display_data"
    },
    {
     "data": {
      "text/html": [
       "\n",
       "      <div style=\"display: flex; align-items: center; margin-bottom: 20px;\">\n",
       "          <a href=https://www.skinnytaste.com/air-fryer-chicken-milanese-with-mediterranean-salad/ target=\"_blank\" rel=\"noopener noreferrer\">\n",
       "              <img src=\"https://www.skinnytaste.com/wp-content/uploads/2021/09/Air-Fryer-Chicken-Milanese-8-260x390.jpg\" alt=\"Air Fryer Chicken Milanese with Mediterranean Salad\" style=\"width: 200px; height: auto; margin-right: 20px;\">\n",
       "          </a>\n",
       "          <div>\n",
       "              <a href=https://www.skinnytaste.com/air-fryer-chicken-milanese-with-mediterranean-salad/ target=\"_blank\" rel=\"noopener noreferrer\" style=\"text-decoration:none\">\n",
       "                  <h4 style=\"font-size:18px\"> <strong>Air Fryer Chicken Milanese with Mediterranean Salad</strong></h4><br>\n",
       "              </a>\n",
       "              <i><strong>Calories:</strong></i> 562.0<br>\n",
       "              <i><strong>Points:</strong></i> 10<br>\n",
       "              <!-- Replace V by ['V'] to use from CSV --> \n",
       "              <i><strong>Recipe Keys:</strong></i> V<br><br>\n",
       "              <i><strong>Summary:</strong></i> This crispy Air Fryer Breaded Chicken Breast is topped with a Mediterranean Salad of tomatoes, red onion, romaine lettuce, and grated Feta cheese – so good!<br>\n",
       "          </div>\n",
       "      </div>\n",
       "      "
      ],
      "text/plain": [
       "<IPython.core.display.HTML object>"
      ]
     },
     "metadata": {},
     "output_type": "display_data"
    },
    {
     "data": {
      "text/html": [
       "\n",
       "      <div style=\"display: flex; align-items: center; margin-bottom: 20px;\">\n",
       "          <a href=https://www.skinnytaste.com/ahi-tuna-poke-stacks/ target=\"_blank\" rel=\"noopener noreferrer\">\n",
       "              <img src=\"https://www.skinnytaste.com/wp-content/uploads/2021/04/Ahi-Tuna-Poke-Rice-Stacks-6-260x390.jpg\" alt=\"Ahi Tuna Poke Stacks\" style=\"width: 200px; height: auto; margin-right: 20px;\">\n",
       "          </a>\n",
       "          <div>\n",
       "              <a href=https://www.skinnytaste.com/ahi-tuna-poke-stacks/ target=\"_blank\" rel=\"noopener noreferrer\" style=\"text-decoration:none\">\n",
       "                  <h4 style=\"font-size:18px\"> <strong>Ahi Tuna Poke Stacks</strong></h4><br>\n",
       "              </a>\n",
       "              <i><strong>Calories:</strong></i> 561.0<br>\n",
       "              <i><strong>Points:</strong></i> 9<br>\n",
       "              <!-- Replace DF, GF, Q, W by ['DF', 'GF', 'Q', 'W'] to use from CSV --> \n",
       "              <i><strong>Recipe Keys:</strong></i> DF, GF, Q, W<br><br>\n",
       "              <i><strong>Summary:</strong></i> Ahi Tuna Poke Rice Stacks with layers of chunks of sushi-grade tuna, avocado, cucumbers, spicy mayo, and rice layered in fun easy stacks.<br>\n",
       "          </div>\n",
       "      </div>\n",
       "      "
      ],
      "text/plain": [
       "<IPython.core.display.HTML object>"
      ]
     },
     "metadata": {},
     "output_type": "display_data"
    },
    {
     "data": {
      "text/html": [
       "\n",
       "      <div style=\"display: flex; align-items: center; margin-bottom: 20px;\">\n",
       "          <a href=https://www.skinnytaste.com/ratatouille-baked-chicken/ target=\"_blank\" rel=\"noopener noreferrer\">\n",
       "              <img src=\"https://www.skinnytaste.com/wp-content/uploads/2020/03/Ratatouille-Baked-Chicken-5-260x390.jpg\" alt=\"Ratatouille Baked Chicken\" style=\"width: 200px; height: auto; margin-right: 20px;\">\n",
       "          </a>\n",
       "          <div>\n",
       "              <a href=https://www.skinnytaste.com/ratatouille-baked-chicken/ target=\"_blank\" rel=\"noopener noreferrer\" style=\"text-decoration:none\">\n",
       "                  <h4 style=\"font-size:18px\"> <strong>Ratatouille Baked Chicken</strong></h4><br>\n",
       "              </a>\n",
       "              <i><strong>Calories:</strong></i> 543.0<br>\n",
       "              <i><strong>Points:</strong></i> 10<br>\n",
       "              <!-- Replace DF, GF, HF, KF, V by ['DF', 'GF', 'HF', 'KF', 'V'] to use from CSV --> \n",
       "              <i><strong>Recipe Keys:</strong></i> DF, GF, HF, KF, V<br><br>\n",
       "              <i><strong>Summary:</strong></i> Ratatouille Baked Chicken takes a classic French dish and turns it into a family-friendly comfort food dish loaded with veggies.<br>\n",
       "          </div>\n",
       "      </div>\n",
       "      "
      ],
      "text/plain": [
       "<IPython.core.display.HTML object>"
      ]
     },
     "metadata": {},
     "output_type": "display_data"
    },
    {
     "data": {
      "text/html": [
       "\n",
       "      <div style=\"display: flex; align-items: center; margin-bottom: 20px;\">\n",
       "          <a href=https://www.skinnytaste.com/microwave-salmon-rice-bowl/ target=\"_blank\" rel=\"noopener noreferrer\">\n",
       "              <img src=\"https://www.skinnytaste.com/wp-content/uploads/2023/02/5-Minute-Glazed-Salmon-Rice-Bowl-13-260x390.jpg\" alt=\"5-Minute Microwave Salmon Rice Bowl with Bok Choy\" style=\"width: 200px; height: auto; margin-right: 20px;\">\n",
       "          </a>\n",
       "          <div>\n",
       "              <a href=https://www.skinnytaste.com/microwave-salmon-rice-bowl/ target=\"_blank\" rel=\"noopener noreferrer\" style=\"text-decoration:none\">\n",
       "                  <h4 style=\"font-size:18px\"> <strong>5-Minute Microwave Salmon Rice Bowl with Bok Choy</strong></h4><br>\n",
       "              </a>\n",
       "              <i><strong>Calories:</strong></i> 533.0<br>\n",
       "              <i><strong>Points:</strong></i> 5<br>\n",
       "              <!-- Replace GF, HP, LC, MP by ['GF', 'HP', 'LC', 'MP'] to use from CSV --> \n",
       "              <i><strong>Recipe Keys:</strong></i> GF, HP, LC, MP<br><br>\n",
       "              <i><strong>Summary:</strong></i> If you don’t have time to cook, you’ll love this 5-minute Salmon Rice Bowl with Bok Choy made in the microwave!<br>\n",
       "          </div>\n",
       "      </div>\n",
       "      "
      ],
      "text/plain": [
       "<IPython.core.display.HTML object>"
      ]
     },
     "metadata": {},
     "output_type": "display_data"
    },
    {
     "data": {
      "text/html": [
       "\n",
       "      <div style=\"display: flex; align-items: center; margin-bottom: 20px;\">\n",
       "          <a href=https://www.skinnytaste.com/burma-superstar-chicken-dal-curry/ target=\"_blank\" rel=\"noopener noreferrer\">\n",
       "              <img src=\"https://www.skinnytaste.com/wp-content/uploads/2019/08/Chicken-Dal-Curry-1-3-260x390.jpg\" alt=\"Burma Superstar Chicken Dal Curry\" style=\"width: 200px; height: auto; margin-right: 20px;\">\n",
       "          </a>\n",
       "          <div>\n",
       "              <a href=https://www.skinnytaste.com/burma-superstar-chicken-dal-curry/ target=\"_blank\" rel=\"noopener noreferrer\" style=\"text-decoration:none\">\n",
       "                  <h4 style=\"font-size:18px\"> <strong>Burma Superstar Chicken Dal Curry</strong></h4><br>\n",
       "              </a>\n",
       "              <i><strong>Calories:</strong></i> 529.0<br>\n",
       "              <i><strong>Points:</strong></i> 7<br>\n",
       "              <!-- Replace AF, DF, GF, KF, LC, Q, W by ['AF', 'DF', 'GF', 'KF', 'LC', 'Q', 'W'] to use from CSV --> \n",
       "              <i><strong>Recipe Keys:</strong></i> AF, DF, GF, KF, LC, Q, W<br><br>\n",
       "              <i><strong>Summary:</strong></i> Chicken Dal Curry is a comforting Burmese stew made with yellow peas, chicken, ginger, turmeric, curry and spices.<br>\n",
       "          </div>\n",
       "      </div>\n",
       "      "
      ],
      "text/plain": [
       "<IPython.core.display.HTML object>"
      ]
     },
     "metadata": {},
     "output_type": "display_data"
    }
   ],
   "source": [
    "from IPython.display import Image, display, HTML\n",
    "\n",
    "calorie_min = int(input(\"Enter minimum calorie value: \"))\n",
    "calorie_max = int(input(\"Enter maximum calorie value: \"))\n",
    "point_min = int(input(\"Enter minimum point value: \"))\n",
    "point_max = int(input(\"Enter maximum point value: \"))\n",
    "\n",
    "print(\"\\n======================= RESULTS=========================\\n\")\n",
    "# Filtering the DataFrame based on user input\n",
    "\n",
    "# Replace the df[(, df['Cal'] and df['Points'] by data[(, data['Cal'] and data['Points'] respectively to use from the CSV\n",
    "new_df = df[(df['Cal'] >= calorie_min) & (df['Cal'] <= calorie_max) &\n",
    "                 (df['Points'] >= point_min) & (df['Points'] <= point_max)]\n",
    "\n",
    "# Sorting by calories in a decending order\n",
    "sorted_df = new_df.sort_values(by='Cal', ascending=False)\n",
    "\n",
    "# Output the first 10 foods based on Calories\n",
    "result = sorted_df.head(10)\n",
    "\n",
    "# Checking if the search parameter doesn't hold true\n",
    "if result.empty:\n",
    "  print(\"Nothing to display :)\")\n",
    "\n",
    "else:\n",
    "  def display_food_details(row):\n",
    "      Keys = ', '.join(row['Keys'])\n",
    "      html = f\"\"\"\n",
    "      <div style=\"display: flex; align-items: center; margin-bottom: 20px;\">\n",
    "          <a href={row['Url']} target=\"_blank\" rel=\"noopener noreferrer\">\n",
    "              <img src=\"{row['Image']}\" alt=\"{row['Name']}\" style=\"width: 200px; height: auto; margin-right: 20px;\">\n",
    "          </a>\n",
    "          <div>\n",
    "              <a href={row['Url']} target=\"_blank\" rel=\"noopener noreferrer\" style=\"text-decoration:none\">\n",
    "                  <h4 style=\"font-size:18px\"> <strong>{row['Name']}</strong></h4><br>\n",
    "              </a>\n",
    "              <i><strong>Calories:</strong></i> {row['Cal']}<br>\n",
    "              <i><strong>Points:</strong></i> {row['Points']}<br>\n",
    "              <!-- Replace {Keys} by {row['Keys']} to use from CSV --> \n",
    "              <i><strong>Recipe Keys:</strong></i> {Keys}<br><br>\n",
    "              <i><strong>Summary:</strong></i> {row['Summary']}<br>\n",
    "          </div>\n",
    "      </div>\n",
    "      \"\"\"\n",
    "      display(HTML(html))\n",
    "\n",
    "  # Display each food's details\n",
    "  for index, row in result.iterrows():\n",
    "      display_food_details(row)\n",
    "\n",
    "\n"
   ]
  },
  {
   "cell_type": "code",
   "execution_count": null,
   "metadata": {},
   "outputs": [],
   "source": []
  }
 ],
 "metadata": {
  "colab": {
   "provenance": []
  },
  "kernelspec": {
   "display_name": "Python 3 (ipykernel)",
   "language": "python",
   "name": "python3"
  },
  "language_info": {
   "codemirror_mode": {
    "name": "ipython",
    "version": 3
   },
   "file_extension": ".py",
   "mimetype": "text/x-python",
   "name": "python",
   "nbconvert_exporter": "python",
   "pygments_lexer": "ipython3",
   "version": "3.9.13"
  }
 },
 "nbformat": 4,
 "nbformat_minor": 1
}
