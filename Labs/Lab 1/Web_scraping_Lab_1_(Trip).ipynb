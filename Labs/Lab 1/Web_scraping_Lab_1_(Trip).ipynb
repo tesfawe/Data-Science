{
  "nbformat": 4,
  "nbformat_minor": 0,
  "metadata": {
    "colab": {
      "provenance": []
    },
    "kernelspec": {
      "name": "python3",
      "display_name": "Python 3"
    },
    "language_info": {
      "name": "python"
    }
  },
  "cells": [
    {
      "cell_type": "code",
      "execution_count": null,
      "metadata": {
        "colab": {
          "base_uri": "https://localhost:8080/"
        },
        "id": "NyKFrk95s3Bv",
        "outputId": "0a8e66e0-f074-40ee-8b79-57deed895d80",
        "collapsed": true
      },
      "outputs": [
        {
          "output_type": "stream",
          "name": "stdout",
          "text": [
            "Requirement already satisfied: beautifulsoup4 in /usr/local/lib/python3.10/dist-packages (4.12.3)\n",
            "Requirement already satisfied: requests in /usr/local/lib/python3.10/dist-packages (2.32.3)\n",
            "Collecting selenium\n",
            "  Downloading selenium-4.25.0-py3-none-any.whl.metadata (7.1 kB)\n",
            "Collecting undetected-chromedriver\n",
            "  Downloading undetected-chromedriver-3.5.5.tar.gz (65 kB)\n",
            "\u001b[2K     \u001b[90m━━━━━━━━━━━━━━━━━━━━━━━━━━━━━━━━━━━━━━━━\u001b[0m \u001b[32m65.4/65.4 kB\u001b[0m \u001b[31m1.7 MB/s\u001b[0m eta \u001b[36m0:00:00\u001b[0m\n",
            "\u001b[?25h  Preparing metadata (setup.py) ... \u001b[?25l\u001b[?25hdone\n",
            "Requirement already satisfied: soupsieve>1.2 in /usr/local/lib/python3.10/dist-packages (from beautifulsoup4) (2.6)\n",
            "Requirement already satisfied: charset-normalizer<4,>=2 in /usr/local/lib/python3.10/dist-packages (from requests) (3.3.2)\n",
            "Requirement already satisfied: idna<4,>=2.5 in /usr/local/lib/python3.10/dist-packages (from requests) (3.10)\n",
            "Requirement already satisfied: urllib3<3,>=1.21.1 in /usr/local/lib/python3.10/dist-packages (from requests) (2.2.3)\n",
            "Requirement already satisfied: certifi>=2017.4.17 in /usr/local/lib/python3.10/dist-packages (from requests) (2024.8.30)\n",
            "Collecting trio~=0.17 (from selenium)\n",
            "  Downloading trio-0.26.2-py3-none-any.whl.metadata (8.6 kB)\n",
            "Collecting trio-websocket~=0.9 (from selenium)\n",
            "  Downloading trio_websocket-0.11.1-py3-none-any.whl.metadata (4.7 kB)\n",
            "Requirement already satisfied: typing_extensions~=4.9 in /usr/local/lib/python3.10/dist-packages (from selenium) (4.12.2)\n",
            "Requirement already satisfied: websocket-client~=1.8 in /usr/local/lib/python3.10/dist-packages (from selenium) (1.8.0)\n",
            "Collecting websockets (from undetected-chromedriver)\n",
            "  Downloading websockets-13.1-cp310-cp310-manylinux_2_5_x86_64.manylinux1_x86_64.manylinux_2_17_x86_64.manylinux2014_x86_64.whl.metadata (6.8 kB)\n",
            "Requirement already satisfied: attrs>=23.2.0 in /usr/local/lib/python3.10/dist-packages (from trio~=0.17->selenium) (24.2.0)\n",
            "Requirement already satisfied: sortedcontainers in /usr/local/lib/python3.10/dist-packages (from trio~=0.17->selenium) (2.4.0)\n",
            "Collecting outcome (from trio~=0.17->selenium)\n",
            "  Downloading outcome-1.3.0.post0-py2.py3-none-any.whl.metadata (2.6 kB)\n",
            "Requirement already satisfied: sniffio>=1.3.0 in /usr/local/lib/python3.10/dist-packages (from trio~=0.17->selenium) (1.3.1)\n",
            "Requirement already satisfied: exceptiongroup in /usr/local/lib/python3.10/dist-packages (from trio~=0.17->selenium) (1.2.2)\n",
            "Collecting wsproto>=0.14 (from trio-websocket~=0.9->selenium)\n",
            "  Downloading wsproto-1.2.0-py3-none-any.whl.metadata (5.6 kB)\n",
            "Requirement already satisfied: pysocks!=1.5.7,<2.0,>=1.5.6 in /usr/local/lib/python3.10/dist-packages (from urllib3[socks]<3,>=1.26->selenium) (1.7.1)\n",
            "Collecting h11<1,>=0.9.0 (from wsproto>=0.14->trio-websocket~=0.9->selenium)\n",
            "  Downloading h11-0.14.0-py3-none-any.whl.metadata (8.2 kB)\n",
            "Downloading selenium-4.25.0-py3-none-any.whl (9.7 MB)\n",
            "\u001b[2K   \u001b[90m━━━━━━━━━━━━━━━━━━━━━━━━━━━━━━━━━━━━━━━━\u001b[0m \u001b[32m9.7/9.7 MB\u001b[0m \u001b[31m49.7 MB/s\u001b[0m eta \u001b[36m0:00:00\u001b[0m\n",
            "\u001b[?25hDownloading trio-0.26.2-py3-none-any.whl (475 kB)\n",
            "\u001b[2K   \u001b[90m━━━━━━━━━━━━━━━━━━━━━━━━━━━━━━━━━━━━━━━━\u001b[0m \u001b[32m476.0/476.0 kB\u001b[0m \u001b[31m17.2 MB/s\u001b[0m eta \u001b[36m0:00:00\u001b[0m\n",
            "\u001b[?25hDownloading trio_websocket-0.11.1-py3-none-any.whl (17 kB)\n",
            "Downloading websockets-13.1-cp310-cp310-manylinux_2_5_x86_64.manylinux1_x86_64.manylinux_2_17_x86_64.manylinux2014_x86_64.whl (164 kB)\n",
            "\u001b[2K   \u001b[90m━━━━━━━━━━━━━━━━━━━━━━━━━━━━━━━━━━━━━━━━\u001b[0m \u001b[32m164.1/164.1 kB\u001b[0m \u001b[31m7.4 MB/s\u001b[0m eta \u001b[36m0:00:00\u001b[0m\n",
            "\u001b[?25hDownloading wsproto-1.2.0-py3-none-any.whl (24 kB)\n",
            "Downloading outcome-1.3.0.post0-py2.py3-none-any.whl (10 kB)\n",
            "Downloading h11-0.14.0-py3-none-any.whl (58 kB)\n",
            "\u001b[2K   \u001b[90m━━━━━━━━━━━━━━━━━━━━━━━━━━━━━━━━━━━━━━━━\u001b[0m \u001b[32m58.3/58.3 kB\u001b[0m \u001b[31m2.8 MB/s\u001b[0m eta \u001b[36m0:00:00\u001b[0m\n",
            "\u001b[?25hBuilding wheels for collected packages: undetected-chromedriver\n",
            "  Building wheel for undetected-chromedriver (setup.py) ... \u001b[?25l\u001b[?25hdone\n",
            "  Created wheel for undetected-chromedriver: filename=undetected_chromedriver-3.5.5-py3-none-any.whl size=47047 sha256=b5617619ef91b0c94cd64a7398594fe0a44912cb77c9d9aee9b7ba546b9213d1\n",
            "  Stored in directory: /root/.cache/pip/wheels/cf/a1/db/e1275b6f7259aacd6b045f8bfcb1fcbc93827a3916ba55d5b7\n",
            "Successfully built undetected-chromedriver\n",
            "Installing collected packages: websockets, outcome, h11, wsproto, trio, trio-websocket, selenium, undetected-chromedriver\n",
            "Successfully installed h11-0.14.0 outcome-1.3.0.post0 selenium-4.25.0 trio-0.26.2 trio-websocket-0.11.1 undetected-chromedriver-3.5.5 websockets-13.1 wsproto-1.2.0\n",
            "Get:1 https://cloud.r-project.org/bin/linux/ubuntu jammy-cran40/ InRelease [3,626 B]\n",
            "Get:2 https://developer.download.nvidia.com/compute/cuda/repos/ubuntu2204/x86_64  InRelease [1,581 B]\n",
            "Get:3 http://security.ubuntu.com/ubuntu jammy-security InRelease [129 kB]\n",
            "Ign:4 https://r2u.stat.illinois.edu/ubuntu jammy InRelease\n",
            "Hit:5 http://archive.ubuntu.com/ubuntu jammy InRelease\n",
            "Get:6 https://r2u.stat.illinois.edu/ubuntu jammy Release [5,713 B]\n",
            "Get:7 https://r2u.stat.illinois.edu/ubuntu jammy Release.gpg [793 B]\n",
            "Get:8 http://archive.ubuntu.com/ubuntu jammy-updates InRelease [128 kB]\n",
            "Get:9 https://developer.download.nvidia.com/compute/cuda/repos/ubuntu2204/x86_64  Packages [1,027 kB]\n",
            "Get:10 https://ppa.launchpadcontent.net/deadsnakes/ppa/ubuntu jammy InRelease [18.1 kB]\n",
            "Hit:11 http://archive.ubuntu.com/ubuntu jammy-backports InRelease\n",
            "Get:12 https://ppa.launchpadcontent.net/graphics-drivers/ppa/ubuntu jammy InRelease [24.3 kB]\n",
            "Hit:13 https://ppa.launchpadcontent.net/ubuntugis/ppa/ubuntu jammy InRelease\n",
            "Get:14 https://r2u.stat.illinois.edu/ubuntu jammy/main all Packages [8,362 kB]\n",
            "Get:15 https://r2u.stat.illinois.edu/ubuntu jammy/main amd64 Packages [2,590 kB]\n",
            "Get:16 http://archive.ubuntu.com/ubuntu jammy-updates/universe amd64 Packages [1,447 kB]\n",
            "Get:17 https://ppa.launchpadcontent.net/deadsnakes/ppa/ubuntu jammy/main amd64 Packages [27.8 kB]\n",
            "Get:18 http://archive.ubuntu.com/ubuntu jammy-updates/main amd64 Packages [2,596 kB]\n",
            "Fetched 16.4 MB in 3s (6,480 kB/s)\n",
            "Reading package lists... Done\n",
            "W: Skipping acquire of configured file 'main/source/Sources' as repository 'https://r2u.stat.illinois.edu/ubuntu jammy InRelease' does not seem to provide it (sources.list entry misspelt?)\n",
            "Reading package lists... Done\n",
            "Building dependency tree... Done\n",
            "Reading state information... Done\n",
            "unzip is already the newest version (6.0-26ubuntu3.2).\n",
            "wget is already the newest version (1.21.2-2ubuntu1.1).\n",
            "0 upgraded, 0 newly installed, 0 to remove and 49 not upgraded.\n",
            "--2024-10-03 09:01:56--  https://dl.google.com/linux/direct/google-chrome-stable_current_amd64.deb\n",
            "Resolving dl.google.com (dl.google.com)... 172.217.203.136, 172.217.203.93, 172.217.203.91, ...\n",
            "Connecting to dl.google.com (dl.google.com)|172.217.203.136|:443... connected.\n",
            "HTTP request sent, awaiting response... 200 OK\n",
            "Length: 111878140 (107M) [application/x-debian-package]\n",
            "Saving to: ‘google-chrome-stable_current_amd64.deb’\n",
            "\n",
            "google-chrome-stabl 100%[===================>] 106.69M   183MB/s    in 0.6s    \n",
            "\n",
            "2024-10-03 09:01:57 (183 MB/s) - ‘google-chrome-stable_current_amd64.deb’ saved [111878140/111878140]\n",
            "\n",
            "Selecting previously unselected package google-chrome-stable.\n",
            "(Reading database ... 123620 files and directories currently installed.)\n",
            "Preparing to unpack google-chrome-stable_current_amd64.deb ...\n",
            "Unpacking google-chrome-stable (129.0.6668.89-1) ...\n",
            "\u001b[1mdpkg:\u001b[0m dependency problems prevent configuration of google-chrome-stable:\n",
            " google-chrome-stable depends on libvulkan1; however:\n",
            "  Package libvulkan1 is not installed.\n",
            "\n",
            "\u001b[1mdpkg:\u001b[0m error processing package google-chrome-stable (--install):\n",
            " dependency problems - leaving unconfigured\n",
            "Processing triggers for man-db (2.10.2-1) ...\n",
            "Errors were encountered while processing:\n",
            " google-chrome-stable\n",
            "Reading package lists... Done\n",
            "Building dependency tree... Done\n",
            "Reading state information... Done\n",
            "Correcting dependencies... Done\n",
            "The following additional packages will be installed:\n",
            "  libvulkan1 mesa-vulkan-drivers\n",
            "The following NEW packages will be installed:\n",
            "  libvulkan1 mesa-vulkan-drivers\n",
            "0 upgraded, 2 newly installed, 0 to remove and 49 not upgraded.\n",
            "1 not fully installed or removed.\n",
            "Need to get 10.9 MB of archives.\n",
            "After this operation, 51.3 MB of additional disk space will be used.\n",
            "Get:1 http://archive.ubuntu.com/ubuntu jammy/main amd64 libvulkan1 amd64 1.3.204.1-2 [128 kB]\n",
            "Get:2 http://archive.ubuntu.com/ubuntu jammy-updates/main amd64 mesa-vulkan-drivers amd64 23.2.1-1ubuntu3.1~22.04.2 [10.7 MB]\n",
            "Fetched 10.9 MB in 1s (8,058 kB/s)\n",
            "Selecting previously unselected package libvulkan1:amd64.\n",
            "(Reading database ... 123737 files and directories currently installed.)\n",
            "Preparing to unpack .../libvulkan1_1.3.204.1-2_amd64.deb ...\n",
            "Unpacking libvulkan1:amd64 (1.3.204.1-2) ...\n",
            "Selecting previously unselected package mesa-vulkan-drivers:amd64.\n",
            "Preparing to unpack .../mesa-vulkan-drivers_23.2.1-1ubuntu3.1~22.04.2_amd64.deb ...\n",
            "Unpacking mesa-vulkan-drivers:amd64 (23.2.1-1ubuntu3.1~22.04.2) ...\n",
            "Setting up libvulkan1:amd64 (1.3.204.1-2) ...\n",
            "Setting up mesa-vulkan-drivers:amd64 (23.2.1-1ubuntu3.1~22.04.2) ...\n",
            "Setting up google-chrome-stable (129.0.6668.89-1) ...\n",
            "update-alternatives: using /usr/bin/google-chrome-stable to provide /usr/bin/x-www-browser (x-www-browser) in auto mode\n",
            "update-alternatives: using /usr/bin/google-chrome-stable to provide /usr/bin/gnome-www-browser (gnome-www-browser) in auto mode\n",
            "update-alternatives: using /usr/bin/google-chrome-stable to provide /usr/bin/google-chrome (google-chrome) in auto mode\n",
            "Processing triggers for libc-bin (2.35-0ubuntu3.4) ...\n",
            "/sbin/ldconfig.real: /usr/local/lib/libtbbmalloc_proxy.so.2 is not a symbolic link\n",
            "\n",
            "/sbin/ldconfig.real: /usr/local/lib/libtbb.so.12 is not a symbolic link\n",
            "\n",
            "/sbin/ldconfig.real: /usr/local/lib/libtbbbind_2_0.so.3 is not a symbolic link\n",
            "\n",
            "/sbin/ldconfig.real: /usr/local/lib/libur_loader.so.0 is not a symbolic link\n",
            "\n",
            "/sbin/ldconfig.real: /usr/local/lib/libur_adapter_level_zero.so.0 is not a symbolic link\n",
            "\n",
            "/sbin/ldconfig.real: /usr/local/lib/libtbbbind.so.3 is not a symbolic link\n",
            "\n",
            "/sbin/ldconfig.real: /usr/local/lib/libur_adapter_opencl.so.0 is not a symbolic link\n",
            "\n",
            "/sbin/ldconfig.real: /usr/local/lib/libtbbbind_2_5.so.3 is not a symbolic link\n",
            "\n",
            "/sbin/ldconfig.real: /usr/local/lib/libtbbmalloc.so.2 is not a symbolic link\n",
            "\n",
            "Collecting chromedriver_autoinstaller\n",
            "  Downloading chromedriver_autoinstaller-0.6.4-py3-none-any.whl.metadata (2.1 kB)\n",
            "Requirement already satisfied: packaging>=23.1 in /usr/local/lib/python3.10/dist-packages (from chromedriver_autoinstaller) (24.1)\n",
            "Downloading chromedriver_autoinstaller-0.6.4-py3-none-any.whl (7.6 kB)\n",
            "Installing collected packages: chromedriver_autoinstaller\n",
            "Successfully installed chromedriver_autoinstaller-0.6.4\n"
          ]
        }
      ],
      "source": [
        "# Install Python packages\n",
        "!pip install beautifulsoup4 requests selenium undetected-chromedriver\n",
        "# Install wget and unzip if not already installed\n",
        "!apt-get update\n",
        "!apt-get install -y wget unzip\n",
        "\n",
        "# Download Google Chrome Stable\n",
        "!wget https://dl.google.com/linux/direct/google-chrome-stable_current_amd64.deb\n",
        "\n",
        "# Install Google Chrome\n",
        "!dpkg -i google-chrome-stable_current_amd64.deb\n",
        "\n",
        "# Fix any missing dependencies\n",
        "!apt-get install -f -y\n",
        "!pip install chromedriver_autoinstaller\n",
        "\n"
      ]
    },
    {
      "cell_type": "code",
      "source": [
        "!chromedriver --version\n",
        "# Check Chrome version\n",
        "!google-chrome --version"
      ],
      "metadata": {
        "colab": {
          "base_uri": "https://localhost:8080/"
        },
        "collapsed": true,
        "id": "HtuyAqfYx0la",
        "outputId": "1faf8566-4e99-48d9-e0b2-11469a375f28"
      },
      "execution_count": null,
      "outputs": [
        {
          "output_type": "stream",
          "name": "stdout",
          "text": [
            "chmod: cannot access '/usr/local/bin/chromedriver': No such file or directory\n",
            "/bin/bash: line 1: chromedriver: command not found\n",
            "Google Chrome 129.0.6668.89 \n"
          ]
        }
      ]
    },
    {
      "cell_type": "code",
      "source": [
        "!which chromedriver\n",
        "!chromium-browser --version\n",
        "!chromedriver --version"
      ],
      "metadata": {
        "colab": {
          "base_uri": "https://localhost:8080/"
        },
        "id": "kRJWnEzatBMF",
        "outputId": "06440c0a-2d80-4324-ad66-e611b2ea5d80",
        "collapsed": true
      },
      "execution_count": null,
      "outputs": [
        {
          "output_type": "stream",
          "name": "stdout",
          "text": [
            "/bin/bash: line 1: chromium-browser: command not found\n",
            "/bin/bash: line 1: chromedriver: command not found\n"
          ]
        }
      ]
    },
    {
      "cell_type": "markdown",
      "source": [
        "**Property Card :**\n",
        "Hotels address\n",
        "\n",
        "*   Hotels address\n",
        "*   Distance from the city center\n",
        "*   Average price per night for given accommodation type for the data that you have pre-selected [Done]\n",
        "*   Review score [Done]\n",
        "*   Hotel rating [Done]\n",
        "*   Hotel summary/description\n",
        "*   At least 3 photos of the hotel"
      ],
      "metadata": {
        "id": "Ck3qppXImsTx"
      }
    },
    {
      "cell_type": "code",
      "source": [
        "import undetected_chromedriver as uc\n",
        "from selenium.webdriver.chrome.options import Options\n",
        "from bs4 import BeautifulSoup\n",
        "import time\n",
        "import chromedriver_autoinstaller\n",
        "from selenium.webdriver.support.ui import WebDriverWait\n",
        "from selenium.webdriver.support import expected_conditions as EC\n",
        "chromedriver_autoinstaller.install()\n",
        "\n",
        "headers = {\n",
        "    'User-Agent': 'Mozilla/5.0 (Windows NT 10.0; Win64; x64)...'  # Replace with your actual User-Agent\n",
        "}\n",
        "\n",
        "options = uc.ChromeOptions()\n",
        "options.add_argument('--no-sandbox')\n",
        "options.add_argument('--disable-dev-shm-usage')\n",
        "options.add_argument(f'user-agent={headers[\"User-Agent\"]}')\n",
        "options.add_argument('--disable-blink-features=AutomationControlled')\n",
        "options.add_argument('--headless=new')\n",
        "options.add_argument('--disable-gpu')\n",
        "options.add_argument('--window-size=1920,1080')\n",
        "options.add_argument('--disable-infobars')\n",
        "options.add_argument('--enable-javascript')\n",
        "\n",
        "\n",
        "driver = uc.Chrome(options=options)\n",
        "\n",
        "driver.execute_script(\"Object.defineProperty(navigator, 'webdriver', {get: () => undefined})\")\n",
        "\n",
        "base_url = \"https://uk.trip.com\"\n",
        "url = \"https://uk.trip.com/hotels/list?city=361&cityName=Milan&provinceId=10168&countryId=106&districtId=0&checkin=2025/01/01&checkout=2025/01/03&barCurr=GBP&searchType=CT&searchWord=Milan&searchValue=19~361_19_361_1&searchCoordinate=3_-1_-1_0~2_-1_-1_0~1_-1_-1_0~NORMAL_45.4654542_9.186516_0&crn=1&adult=1&children=0&searchBoxArg=t&travelPurpose=0&ctm_ref=ix_sb_dl&domestic=true&listFilters=17~1*17*1*2,80~3~1*80*3*2,29~1*29*1~1*2&locale=en-GB&curr=EUR\"\n",
        "driver.get(url)\n",
        "\n",
        "time.sleep(5)\n",
        "\n",
        "html = driver.page_source\n",
        "\n",
        "soup = BeautifulSoup(html, 'html.parser')\n",
        "\n",
        "hotel_name_list = []\n",
        "hotel_image_list = []\n",
        "hotel_price_list = []\n",
        "hotel_rating_list =[]\n",
        "hotel_review_score_list = []\n",
        "distance_from_center_list = []\n",
        "hotel_address_list = []\n",
        "hotel_summary_list = []\n",
        "\n",
        "\n",
        "hotel_info_div = soup.find_all('div', class_='hotel-info')\n",
        "\n",
        "while len(hotel_info_div) < 60:\n",
        "    driver.execute_script(\"window.scrollTo(0, document.body.scrollHeight);\")\n",
        "\n",
        "    time.sleep(2)\n",
        "\n",
        "    html = driver.page_source\n",
        "\n",
        "    soup = BeautifulSoup(html, 'html.parser')\n",
        "    time.sleep(2)\n",
        "    hotel_info_div = soup.find_all('div', class_='hotel-info')\n",
        "    print(f\"Number of hotels found: {len(hotel_info_div)}\")\n",
        "\n",
        "def getHotelDetails(link):\n",
        "  # print(link)\n",
        "  if link:\n",
        "        driver.get(link)\n",
        "        time.sleep(2)\n",
        "        html = driver.page_source\n",
        "        soup = BeautifulSoup(html, 'html.parser')\n",
        "        # print(soup.prettify())\n",
        "\n",
        "        # Find the address element (adjust the selector based on the actual HTML structure)\n",
        "        address_element = soup.find('span', class_='headInit_headInit-address_text__D_Atv')\n",
        "        summary_element = soup.find('div', class_='hotelOverview_hotelOverview-container__XwS4Z')\n",
        "        # print(summary_element)\n",
        "\n",
        "        # Check if the element exists\n",
        "        if summary_element:\n",
        "            # Extract text from the div, replacing <br/> tags with newlines\n",
        "            summary = summary_element.get_text(separator='\\n', strip=True)\n",
        "        else :\n",
        "            summary = \"No summary found\"\n",
        "\n",
        "\n",
        "        #Images\n",
        "        h_images = []\n",
        "        images = soup.find_all('img', class_='headAlbum_headAlbum_img__vfjQm')\n",
        "        for i in range(0, len(images)):\n",
        "            h_images.append(images[i]['src'])\n",
        "            if i==3:\n",
        "                break\n",
        "\n",
        "        return {\n",
        "          'address': address_element.text.strip(),\n",
        "          'summary': summary,\n",
        "          'images': h_images\n",
        "        }\n",
        "\n",
        "\n",
        "for listing in hotel_info_div:\n",
        "    # print(listing.prettify())\n",
        "\n",
        "    # 1. Find the title of the hotel\n",
        "    title = listing.find('a', {'class': 'name'})\n",
        "\n",
        "    # 2. Find the number of stars\n",
        "    star_elements = listing.findAll('i', class_='own-star')\n",
        "    star_count = len(star_elements)\n",
        "\n",
        "    # 3. Find the score\n",
        "    score = listing.find('div', class_='score').find('span', class_='real').text.strip()\n",
        "\n",
        "    # 4. Find the price\n",
        "    price = listing.find('div', class_='whole').find('div').text.strip()\n",
        "\n",
        "    # Summary, addres, images\n",
        "    link = base_url + title.get('href')\n",
        "    hotel_details = getHotelDetails(link)\n",
        "\n",
        "    address = hotel_details['address']\n",
        "    summary = hotel_details['summary']\n",
        "    images = hotel_details['images']\n",
        "\n",
        "    # # Print the extracted information\n",
        "    # print(f\"Title: {title.text}\")\n",
        "    # print(f\"Star Rating: {star_count} stars\")\n",
        "    # print(f\"Score: {score}\")\n",
        "    # print(f\"Price: {price}\")\n",
        "    # print(f\"Address: {address}\")\n",
        "    # print(f\"Summary: {summary}\")\n",
        "    # print(f\"Images: {images}\")\n",
        "\n",
        "    hotel_summary_list.append(summary)\n",
        "    hotel_name_list.append(title.text)\n",
        "    hotel_image_list.append(images)\n",
        "    hotel_price_list.append(float(price[1:]))\n",
        "    hotel_rating_list.append(int(star_count))\n",
        "    hotel_review_score_list.append(float(score))\n",
        "    distance_from_center_list.append(0)\n",
        "    hotel_address_list.append(address)\n",
        "\n",
        "# Close the driver\n",
        "driver.quit()\n"
      ],
      "metadata": {
        "id": "CumZjbjFtC1l",
        "colab": {
          "base_uri": "https://localhost:8080/"
        },
        "outputId": "ce943996-7bbd-42b3-e32f-79b64a764797"
      },
      "execution_count": null,
      "outputs": [
        {
          "output_type": "stream",
          "name": "stdout",
          "text": [
            "Number of hotels found: 12\n",
            "Number of hotels found: 22\n",
            "Number of hotels found: 32\n",
            "Number of hotels found: 41\n",
            "Number of hotels found: 51\n",
            "Number of hotels found: 60\n"
          ]
        }
      ]
    },
    {
      "cell_type": "code",
      "source": [
        "# Importing numpy to use the fillna and isna methods\n",
        "import numpy as np\n",
        "import pandas as pd\n",
        "df = pd.DataFrame({'name': hotel_name_list, 'price (in €)': hotel_price_list, 'rating (out of 5)': hotel_rating_list,\n",
        "                   'review score': hotel_review_score_list, 'distance from center (in KM)': distance_from_center_list,\n",
        "                   'address': hotel_address_list, 'images':hotel_image_list, 'summary': hotel_summary_list})\n",
        "\n",
        "# Making copy of the original dataframe in local device for backup\n",
        "# df.to_csv(\"bookingdotcom_with_missing_values.csv\")\n",
        "\n",
        "# Some hotel have no rating, replace the Nan values with median\n",
        "df[\"rating (out of 5)\"] = df[\"rating (out of 5)\"].fillna(value=np.nan)\n",
        "df[\"rating (out of 5)\"] = df[\"rating (out of 5)\"].fillna(df[\"rating (out of 5)\"].median())\n",
        "df[\"rating (out of 5)\"] = df[\"rating (out of 5)\"].astype(int)\n",
        "\n",
        "# Saving the datafram after replacing the missing values\n",
        "\n",
        "# df.to_csv(\"bookingdotcom_without_missing_values.csv\")\n",
        "df.head()"
      ],
      "metadata": {
        "colab": {
          "base_uri": "https://localhost:8080/",
          "height": 418
        },
        "id": "Yu8RmxlmsftA",
        "outputId": "f623ef68-d504-424c-abb3-21b7a8b52da7"
      },
      "execution_count": null,
      "outputs": [
        {
          "output_type": "error",
          "ename": "ValueError",
          "evalue": "No engine for filetype: 'csv'",
          "traceback": [
            "\u001b[0;31m---------------------------------------------------------------------------\u001b[0m",
            "\u001b[0;31mOptionError\u001b[0m                               Traceback (most recent call last)",
            "\u001b[0;32m/usr/local/lib/python3.10/dist-packages/pandas/io/excel/_base.py\u001b[0m in \u001b[0;36m__new__\u001b[0;34m(cls, path, engine, date_format, datetime_format, mode, storage_options, if_sheet_exists, engine_kwargs)\u001b[0m\n\u001b[1;32m   1135\u001b[0m                 \u001b[0;32mtry\u001b[0m\u001b[0;34m:\u001b[0m\u001b[0;34m\u001b[0m\u001b[0;34m\u001b[0m\u001b[0m\n\u001b[0;32m-> 1136\u001b[0;31m                     \u001b[0mengine\u001b[0m \u001b[0;34m=\u001b[0m \u001b[0mconfig\u001b[0m\u001b[0;34m.\u001b[0m\u001b[0mget_option\u001b[0m\u001b[0;34m(\u001b[0m\u001b[0;34mf\"io.excel.{ext}.writer\"\u001b[0m\u001b[0;34m,\u001b[0m \u001b[0msilent\u001b[0m\u001b[0;34m=\u001b[0m\u001b[0;32mTrue\u001b[0m\u001b[0;34m)\u001b[0m\u001b[0;34m\u001b[0m\u001b[0;34m\u001b[0m\u001b[0m\n\u001b[0m\u001b[1;32m   1137\u001b[0m                     \u001b[0;32mif\u001b[0m \u001b[0mengine\u001b[0m \u001b[0;34m==\u001b[0m \u001b[0;34m\"auto\"\u001b[0m\u001b[0;34m:\u001b[0m\u001b[0;34m\u001b[0m\u001b[0;34m\u001b[0m\u001b[0m\n",
            "\u001b[0;32m/usr/local/lib/python3.10/dist-packages/pandas/_config/config.py\u001b[0m in \u001b[0;36m__call__\u001b[0;34m(self, *args, **kwds)\u001b[0m\n\u001b[1;32m    273\u001b[0m     \u001b[0;32mdef\u001b[0m \u001b[0m__call__\u001b[0m\u001b[0;34m(\u001b[0m\u001b[0mself\u001b[0m\u001b[0;34m,\u001b[0m \u001b[0;34m*\u001b[0m\u001b[0margs\u001b[0m\u001b[0;34m,\u001b[0m \u001b[0;34m**\u001b[0m\u001b[0mkwds\u001b[0m\u001b[0;34m)\u001b[0m \u001b[0;34m->\u001b[0m \u001b[0mT\u001b[0m\u001b[0;34m:\u001b[0m\u001b[0;34m\u001b[0m\u001b[0;34m\u001b[0m\u001b[0m\n\u001b[0;32m--> 274\u001b[0;31m         \u001b[0;32mreturn\u001b[0m \u001b[0mself\u001b[0m\u001b[0;34m.\u001b[0m\u001b[0m__func__\u001b[0m\u001b[0;34m(\u001b[0m\u001b[0;34m*\u001b[0m\u001b[0margs\u001b[0m\u001b[0;34m,\u001b[0m \u001b[0;34m**\u001b[0m\u001b[0mkwds\u001b[0m\u001b[0;34m)\u001b[0m\u001b[0;34m\u001b[0m\u001b[0;34m\u001b[0m\u001b[0m\n\u001b[0m\u001b[1;32m    275\u001b[0m \u001b[0;34m\u001b[0m\u001b[0m\n",
            "\u001b[0;32m/usr/local/lib/python3.10/dist-packages/pandas/_config/config.py\u001b[0m in \u001b[0;36m_get_option\u001b[0;34m(pat, silent)\u001b[0m\n\u001b[1;32m    145\u001b[0m \u001b[0;32mdef\u001b[0m \u001b[0m_get_option\u001b[0m\u001b[0;34m(\u001b[0m\u001b[0mpat\u001b[0m\u001b[0;34m:\u001b[0m \u001b[0mstr\u001b[0m\u001b[0;34m,\u001b[0m \u001b[0msilent\u001b[0m\u001b[0;34m:\u001b[0m \u001b[0mbool\u001b[0m \u001b[0;34m=\u001b[0m \u001b[0;32mFalse\u001b[0m\u001b[0;34m)\u001b[0m \u001b[0;34m->\u001b[0m \u001b[0mAny\u001b[0m\u001b[0;34m:\u001b[0m\u001b[0;34m\u001b[0m\u001b[0;34m\u001b[0m\u001b[0m\n\u001b[0;32m--> 146\u001b[0;31m     \u001b[0mkey\u001b[0m \u001b[0;34m=\u001b[0m \u001b[0m_get_single_key\u001b[0m\u001b[0;34m(\u001b[0m\u001b[0mpat\u001b[0m\u001b[0;34m,\u001b[0m \u001b[0msilent\u001b[0m\u001b[0;34m)\u001b[0m\u001b[0;34m\u001b[0m\u001b[0;34m\u001b[0m\u001b[0m\n\u001b[0m\u001b[1;32m    147\u001b[0m \u001b[0;34m\u001b[0m\u001b[0m\n",
            "\u001b[0;32m/usr/local/lib/python3.10/dist-packages/pandas/_config/config.py\u001b[0m in \u001b[0;36m_get_single_key\u001b[0;34m(pat, silent)\u001b[0m\n\u001b[1;32m    131\u001b[0m             \u001b[0m_warn_if_deprecated\u001b[0m\u001b[0;34m(\u001b[0m\u001b[0mpat\u001b[0m\u001b[0;34m)\u001b[0m\u001b[0;34m\u001b[0m\u001b[0;34m\u001b[0m\u001b[0m\n\u001b[0;32m--> 132\u001b[0;31m         \u001b[0;32mraise\u001b[0m \u001b[0mOptionError\u001b[0m\u001b[0;34m(\u001b[0m\u001b[0;34mf\"No such keys(s): {repr(pat)}\"\u001b[0m\u001b[0;34m)\u001b[0m\u001b[0;34m\u001b[0m\u001b[0;34m\u001b[0m\u001b[0m\n\u001b[0m\u001b[1;32m    133\u001b[0m     \u001b[0;32mif\u001b[0m \u001b[0mlen\u001b[0m\u001b[0;34m(\u001b[0m\u001b[0mkeys\u001b[0m\u001b[0;34m)\u001b[0m \u001b[0;34m>\u001b[0m \u001b[0;36m1\u001b[0m\u001b[0;34m:\u001b[0m\u001b[0;34m\u001b[0m\u001b[0;34m\u001b[0m\u001b[0m\n",
            "\u001b[0;31mOptionError\u001b[0m: No such keys(s): 'io.excel.csv.writer'",
            "\nThe above exception was the direct cause of the following exception:\n",
            "\u001b[0;31mValueError\u001b[0m                                Traceback (most recent call last)",
            "\u001b[0;32m<ipython-input-119-16b5234d4917>\u001b[0m in \u001b[0;36m<cell line: 17>\u001b[0;34m()\u001b[0m\n\u001b[1;32m     15\u001b[0m \u001b[0;34m\u001b[0m\u001b[0m\n\u001b[1;32m     16\u001b[0m \u001b[0;31m# Saving the datafram after replacing the missing values\u001b[0m\u001b[0;34m\u001b[0m\u001b[0;34m\u001b[0m\u001b[0m\n\u001b[0;32m---> 17\u001b[0;31m \u001b[0mdf\u001b[0m\u001b[0;34m.\u001b[0m\u001b[0mto_excel\u001b[0m\u001b[0;34m(\u001b[0m\u001b[0;34m\"bookingdotcom_without_missing_values.csv\"\u001b[0m\u001b[0;34m,\u001b[0m \u001b[0mindex\u001b[0m\u001b[0;34m=\u001b[0m\u001b[0;32mFalse\u001b[0m\u001b[0;34m)\u001b[0m\u001b[0;34m\u001b[0m\u001b[0;34m\u001b[0m\u001b[0m\n\u001b[0m\u001b[1;32m     18\u001b[0m \u001b[0;34m\u001b[0m\u001b[0m\n\u001b[1;32m     19\u001b[0m \u001b[0;31m# df.to_csv(\"bookingdotcom_without_missing_values.csv\")\u001b[0m\u001b[0;34m\u001b[0m\u001b[0;34m\u001b[0m\u001b[0m\n",
            "\u001b[0;32m/usr/local/lib/python3.10/dist-packages/pandas/util/_decorators.py\u001b[0m in \u001b[0;36mwrapper\u001b[0;34m(*args, **kwargs)\u001b[0m\n\u001b[1;32m    331\u001b[0m                     \u001b[0mstacklevel\u001b[0m\u001b[0;34m=\u001b[0m\u001b[0mfind_stack_level\u001b[0m\u001b[0;34m(\u001b[0m\u001b[0;34m)\u001b[0m\u001b[0;34m,\u001b[0m\u001b[0;34m\u001b[0m\u001b[0;34m\u001b[0m\u001b[0m\n\u001b[1;32m    332\u001b[0m                 )\n\u001b[0;32m--> 333\u001b[0;31m             \u001b[0;32mreturn\u001b[0m \u001b[0mfunc\u001b[0m\u001b[0;34m(\u001b[0m\u001b[0;34m*\u001b[0m\u001b[0margs\u001b[0m\u001b[0;34m,\u001b[0m \u001b[0;34m**\u001b[0m\u001b[0mkwargs\u001b[0m\u001b[0;34m)\u001b[0m\u001b[0;34m\u001b[0m\u001b[0;34m\u001b[0m\u001b[0m\n\u001b[0m\u001b[1;32m    334\u001b[0m \u001b[0;34m\u001b[0m\u001b[0m\n\u001b[1;32m    335\u001b[0m         \u001b[0;31m# error: \"Callable[[VarArg(Any), KwArg(Any)], Any]\" has no\u001b[0m\u001b[0;34m\u001b[0m\u001b[0;34m\u001b[0m\u001b[0m\n",
            "\u001b[0;32m/usr/local/lib/python3.10/dist-packages/pandas/core/generic.py\u001b[0m in \u001b[0;36mto_excel\u001b[0;34m(self, excel_writer, sheet_name, na_rep, float_format, columns, header, index, index_label, startrow, startcol, engine, merge_cells, inf_rep, freeze_panes, storage_options, engine_kwargs)\u001b[0m\n\u001b[1;32m   2415\u001b[0m             \u001b[0minf_rep\u001b[0m\u001b[0;34m=\u001b[0m\u001b[0minf_rep\u001b[0m\u001b[0;34m,\u001b[0m\u001b[0;34m\u001b[0m\u001b[0;34m\u001b[0m\u001b[0m\n\u001b[1;32m   2416\u001b[0m         )\n\u001b[0;32m-> 2417\u001b[0;31m         formatter.write(\n\u001b[0m\u001b[1;32m   2418\u001b[0m             \u001b[0mexcel_writer\u001b[0m\u001b[0;34m,\u001b[0m\u001b[0;34m\u001b[0m\u001b[0;34m\u001b[0m\u001b[0m\n\u001b[1;32m   2419\u001b[0m             \u001b[0msheet_name\u001b[0m\u001b[0;34m=\u001b[0m\u001b[0msheet_name\u001b[0m\u001b[0;34m,\u001b[0m\u001b[0;34m\u001b[0m\u001b[0;34m\u001b[0m\u001b[0m\n",
            "\u001b[0;32m/usr/local/lib/python3.10/dist-packages/pandas/io/formats/excel.py\u001b[0m in \u001b[0;36mwrite\u001b[0;34m(self, writer, sheet_name, startrow, startcol, freeze_panes, engine, storage_options, engine_kwargs)\u001b[0m\n\u001b[1;32m    941\u001b[0m             \u001b[0mneed_save\u001b[0m \u001b[0;34m=\u001b[0m \u001b[0;32mFalse\u001b[0m\u001b[0;34m\u001b[0m\u001b[0;34m\u001b[0m\u001b[0m\n\u001b[1;32m    942\u001b[0m         \u001b[0;32melse\u001b[0m\u001b[0;34m:\u001b[0m\u001b[0;34m\u001b[0m\u001b[0;34m\u001b[0m\u001b[0m\n\u001b[0;32m--> 943\u001b[0;31m             writer = ExcelWriter(\n\u001b[0m\u001b[1;32m    944\u001b[0m                 \u001b[0mwriter\u001b[0m\u001b[0;34m,\u001b[0m\u001b[0;34m\u001b[0m\u001b[0;34m\u001b[0m\u001b[0m\n\u001b[1;32m    945\u001b[0m                 \u001b[0mengine\u001b[0m\u001b[0;34m=\u001b[0m\u001b[0mengine\u001b[0m\u001b[0;34m,\u001b[0m\u001b[0;34m\u001b[0m\u001b[0;34m\u001b[0m\u001b[0m\n",
            "\u001b[0;32m/usr/local/lib/python3.10/dist-packages/pandas/io/excel/_base.py\u001b[0m in \u001b[0;36m__new__\u001b[0;34m(cls, path, engine, date_format, datetime_format, mode, storage_options, if_sheet_exists, engine_kwargs)\u001b[0m\n\u001b[1;32m   1138\u001b[0m                         \u001b[0mengine\u001b[0m \u001b[0;34m=\u001b[0m \u001b[0mget_default_engine\u001b[0m\u001b[0;34m(\u001b[0m\u001b[0mext\u001b[0m\u001b[0;34m,\u001b[0m \u001b[0mmode\u001b[0m\u001b[0;34m=\u001b[0m\u001b[0;34m\"writer\"\u001b[0m\u001b[0;34m)\u001b[0m\u001b[0;34m\u001b[0m\u001b[0;34m\u001b[0m\u001b[0m\n\u001b[1;32m   1139\u001b[0m                 \u001b[0;32mexcept\u001b[0m \u001b[0mKeyError\u001b[0m \u001b[0;32mas\u001b[0m \u001b[0merr\u001b[0m\u001b[0;34m:\u001b[0m\u001b[0;34m\u001b[0m\u001b[0;34m\u001b[0m\u001b[0m\n\u001b[0;32m-> 1140\u001b[0;31m                     \u001b[0;32mraise\u001b[0m \u001b[0mValueError\u001b[0m\u001b[0;34m(\u001b[0m\u001b[0;34mf\"No engine for filetype: '{ext}'\"\u001b[0m\u001b[0;34m)\u001b[0m \u001b[0;32mfrom\u001b[0m \u001b[0merr\u001b[0m\u001b[0;34m\u001b[0m\u001b[0;34m\u001b[0m\u001b[0m\n\u001b[0m\u001b[1;32m   1141\u001b[0m \u001b[0;34m\u001b[0m\u001b[0m\n\u001b[1;32m   1142\u001b[0m             \u001b[0;31m# for mypy\u001b[0m\u001b[0;34m\u001b[0m\u001b[0;34m\u001b[0m\u001b[0m\n",
            "\u001b[0;31mValueError\u001b[0m: No engine for filetype: 'csv'"
          ]
        }
      ]
    },
    {
      "cell_type": "code",
      "source": [
        "import matplotlib.pyplot as plt\n",
        "import seaborn as sns\n",
        "import numpy as np\n",
        "\n",
        "df['price (in €)'] = df['price (in €)'].astype(float)\n",
        "\n",
        "sns.set_style(\"whitegrid\")\n",
        "sns.set_palette(\"Set2\")\n",
        "\n",
        "fig, ax = plt.subplots(figsize=(12, 8))\n",
        "\n",
        "sns.histplot(\n",
        "    data=df,\n",
        "    x='price (in €)',\n",
        "    bins=20,\n",
        "    kde=True,\n",
        "    color='skyblue',\n",
        "    edgecolor='black',\n",
        "    ax=ax,\n",
        "    stat='count',\n",
        ")\n",
        "ax.set_title('Price Distribution of Hotels', fontsize=18)\n",
        "ax.set_xlabel('Price (in €)', fontsize=14)\n",
        "ax.set_ylabel('Number of Hotels', fontsize=14)\n",
        "ax.tick_params(axis='both', which='major', labelsize=12)\n",
        "ax.legend(fontsize=12)\n",
        "ax.grid(True)\n",
        "plt.show()\n"
      ],
      "metadata": {
        "colab": {
          "base_uri": "https://localhost:8080/",
          "height": 750
        },
        "id": "HRu9weBFskRG",
        "outputId": "e922cb78-0b4e-4dc5-92b4-38da9746b7a5"
      },
      "execution_count": null,
      "outputs": [
        {
          "output_type": "stream",
          "name": "stderr",
          "text": [
            "WARNING:matplotlib.legend:No artists with labels found to put in legend.  Note that artists whose label start with an underscore are ignored when legend() is called with no argument.\n"
          ]
        },
        {
          "output_type": "display_data",
          "data": {
            "text/plain": [
              "<Figure size 1200x800 with 1 Axes>"
            ],
            "image/png": "[encoded data removed]"
          },
          "metadata": {}
        }
      ]
    },
    {
      "cell_type": "code",
      "source": [
        "%matplotlib inline\n",
        "import matplotlib.pyplot  as plt\n",
        "import seaborn as sns\n",
        "\n",
        "sns.set_palette(\"Set1\")\n",
        "\n",
        "plt.figure(figsize=(8, 6))\n",
        "sns.histplot(df['distance from center (in KM)'], bins=10, kde=True)\n",
        "plt.title('Distance Distribution')\n",
        "plt.xlabel('Distance from center (in KM)')\n",
        "plt.ylabel('Frequency')\n",
        "plt.show()"
      ],
      "metadata": {
        "colab": {
          "base_uri": "https://localhost:8080/",
          "height": 564
        },
        "collapsed": true,
        "id": "2v4m9BC4vJ6-",
        "outputId": "a61ea5e5-3234-4651-9437-1513e7248445"
      },
      "execution_count": null,
      "outputs": [
        {
          "output_type": "display_data",
          "data": {
            "text/plain": [
              "<Figure size 800x600 with 1 Axes>"
            ],
            "image/png": "[encoded data removed]"
          },
          "metadata": {}
        }
      ]
    },
    {
      "cell_type": "code",
      "source": [
        "import matplotlib.pyplot as plt\n",
        "import seaborn as sns\n",
        "import pandas as pd\n",
        "import numpy as np\n",
        "\n",
        "df['rating (out of 5)'] = pd.to_numeric(df['rating (out of 5)'], errors='coerce')\n",
        "possible_ratings = [x for x in range(0, 6)]\n",
        "rating_counts = df['rating (out of 5)'].value_counts().reindex(possible_ratings, fill_value=0)\n",
        "rating_percentages = (rating_counts / rating_counts.sum()) * 100\n",
        "\n",
        "rating_df = pd.DataFrame({\n",
        "    'Rating Score': pd.Categorical(possible_ratings, categories=possible_ratings, ordered=True),\n",
        "    'Percentage of Hotels': rating_percentages.values\n",
        "})\n",
        "\n",
        "cmap = plt.cm.coolwarm\n",
        "norm = plt.Normalize(rating_percentages.min(), rating_percentages.max())\n",
        "colors = cmap(norm(rating_df['Percentage of Hotels']))\n",
        "\n",
        "sns.set_style(\"whitegrid\")\n",
        "fig, ax = plt.subplots(figsize=(10, 6))\n",
        "bars = ax.bar(\n",
        "    rating_df['Rating Score'].astype(str),\n",
        "    rating_df['Percentage of Hotels'],\n",
        "    color=colors,\n",
        "    edgecolor='black'\n",
        ")\n",
        "\n",
        "ax.set_title('Hotel Rating Distribution', fontsize=18)\n",
        "ax.set_xlabel('Rating Score', fontsize=14)\n",
        "ax.set_ylabel('Percentage of Hotels (%)', fontsize=14)\n",
        "ax.tick_params(axis='both', labelsize=12)\n",
        "\n",
        "sm = plt.cm.ScalarMappable(cmap=cmap, norm=norm)\n",
        "sm.set_array([])\n",
        "fig.colorbar(sm, ax=ax).set_label('Percentage of Hotels (%)', fontsize=12)\n",
        "\n",
        "for bar, percentage in zip(bars, rating_df['Percentage of Hotels']):\n",
        "    ax.text(\n",
        "        bar.get_x() + bar.get_width() / 2,\n",
        "        bar.get_height() + 0.5,\n",
        "        f'{percentage:.1f}%',\n",
        "        ha='center',\n",
        "        fontsize=12\n",
        "    )\n",
        "\n",
        "plt.tight_layout()\n",
        "plt.show()"
      ],
      "metadata": {
        "colab": {
          "base_uri": "https://localhost:8080/",
          "height": 607
        },
        "id": "9IRGStWxvP2R",
        "outputId": "c9941c23-18df-4668-bb1d-24b445e53554"
      },
      "execution_count": null,
      "outputs": [
        {
          "output_type": "display_data",
          "data": {
            "text/plain": [
              "<Figure size 1000x600 with 2 Axes>"
            ],
            "image/png": "[encoded data removed]"
          },
          "metadata": {}
        }
      ]
    },
    {
      "cell_type": "code",
      "source": [
        "%matplotlib inline\n",
        "import matplotlib.pyplot  as plt\n",
        "import seaborn as sns\n",
        "\n",
        "sns.set_palette(\"Set1\")\n",
        "\n",
        "plt.figure(figsize=(8, 6))\n",
        "sns.boxplot(df['review score'])\n",
        "plt.show()"
      ],
      "metadata": {
        "colab": {
          "base_uri": "https://localhost:8080/",
          "height": 535
        },
        "id": "-82VuAEfvXNC",
        "outputId": "add434f8-b2c1-4f2b-c835-2314995ea5b1"
      },
      "execution_count": null,
      "outputs": [
        {
          "output_type": "stream",
          "name": "stderr",
          "text": [
            "/usr/local/lib/python3.10/dist-packages/seaborn/categorical.py:640: FutureWarning: SeriesGroupBy.grouper is deprecated and will be removed in a future version of pandas.\n",
            "  positions = grouped.grouper.result_index.to_numpy(dtype=float)\n"
          ]
        },
        {
          "output_type": "display_data",
          "data": {
            "text/plain": [
              "<Figure size 800x600 with 1 Axes>"
            ],
            "image/png": "[encoded data removed]"
          },
          "metadata": {}
        }
      ]
    },
    {
      "cell_type": "code",
      "source": [
        "from IPython.display import Image, display, HTML\n",
        "\n",
        "price_min = float(input(\"Enter lowest price value: \"))\n",
        "price_max = float(input(\"Enter highest price value: \"))\n",
        "# distance_min = float(input(\"Enter minimum distance from center value (in KM): \"))\n",
        "# distance_max = float(input(\"Enter maximum distance from center value (in KM): \"))\n",
        "review_min = float(input(\"Enter minimum review score value (1 - 5): \"))\n",
        "review_max = float(input(\"Enter maximum review score value (1 - 5): \"))\n",
        "rating_min = int(input(\"Enter the minimum hotel rating (out of 5) value: \"))\n",
        "\n",
        "\n",
        "\n",
        "# Filtering the DataFrame based on user input\n",
        "new_df = df[(df['price (in €)'] >= price_min) & (df['price (in €)'] <= price_max) &\n",
        "                #  (df['distance from center (in KM)'] >= distance_min) &\n",
        "                #  (df['distance from center (in KM)'] <= distance_max) &\n",
        "                 (df['review score'] >= review_min) & (df['review score'] <= review_max) &\n",
        "                 (df['rating (out of 5)'].astype('int') >= rating_min)\n",
        "           ]\n",
        "\n",
        "def sort_by(input_value):\n",
        "    if input_value == 1:\n",
        "        return \"price (in €)\"\n",
        "    # if input_value == 2:\n",
        "    #     return \"distance from center (in KM)\"\n",
        "    if input_value == 2:\n",
        "        return \"review score\"\n",
        "    if input_value == 3:\n",
        "        return \"rating (out of 5)\"\n",
        "    else:\n",
        "        return \"price (in €)\"\n",
        "\n",
        "input_value = float(input(\"How do you want it to be sorted by?: \\n Enter 1 to sort it by price \\n Enter 2 to sort it by review score \\n Enter 3 to sort it by rating \\n\"))\n",
        "\n",
        "# Sorting by price and distance in a ascending order but\n",
        "# sort them in descending order if sorted by review score\n",
        "asc = True\n",
        "if input_value == 3 or input_value == 4:\n",
        "    asc = False\n",
        "sorted_df = new_df.sort_values(by=sort_by(input_value), ascending=asc)\n",
        "\n",
        "# Output the first sorted 10 hotels\n",
        "result = sorted_df.head(10)\n",
        "\n",
        "print(f\"\\n======================= RESULTS sorted by {sort_by(input_value)}=========================\\n\")\n",
        "\n",
        "\n",
        "# Checking if the search parameter doesn't hold true\n",
        "def display_hotel_details(row):\n",
        "  image = None\n",
        "  if row['images']:\n",
        "        image = row['images'][0]\n",
        "  html = f\"\"\"\n",
        "  <div style=\"display: flex; align-items: center; margin-bottom: 20px;\">\n",
        "          <img src=\"{image}\" alt=\"{row['name']}\" style=\"width: 200px; height: auto; margin-right: 20px;\">\n",
        "      <div>\n",
        "          <h4 style=\"font-size:18px\"> <strong>{row['name']}</strong></h4><br>\n",
        "          <i><strong>Price (in €):</strong></i> {row['price (in €)']}<br>\n",
        "          # <i><strong>Distance from center (in KM):</strong></i> {row['distance from center (in KM)']}<br>\n",
        "          <i><strong>Review Score:</strong></i> {row['review score']}<br>\n",
        "          <i><strong>Rating (out of 5):</strong></i> {row['rating (out of 5)']}<br>\n",
        "          <i><strong>Address:</strong></i> {row['address']}<br>\n",
        "      </div>\n",
        "  </div>\n",
        "  \"\"\"\n",
        "  display(HTML(html))\n",
        "\n",
        "\n",
        "# Display three more pictures of the hotel when a user wants to see details of a particular hotel\n",
        "def display_more_hotel_pictures(row):\n",
        "    print(\"Here some more photos of the hotel :)\")\n",
        "    html = \"\"\"\n",
        "    <div style=\"display: flex; align-items: center; margin-bottom: 20px;\">\n",
        "    \"\"\"\n",
        "    for i in range(1, len(row['images'])):\n",
        "        html += f\"\"\"\n",
        "        <div style=\"margin-right: 20px;\">\n",
        "            <img src=\"{row['images'][i]}\" alt=\"{row['name']}\" style=\"width: 200px; height: auto;\">\n",
        "        </div>\n",
        "        \"\"\"\n",
        "    html += \"\"\"\n",
        "    </div>\n",
        "    \"\"\"\n",
        "\n",
        "    html += f\"\"\"\n",
        "    <div>\n",
        "        <p style=\"font-size: 16px; color: #555;\">{row['summary']}</p>\n",
        "    </div>\n",
        "    \"\"\"\n",
        "\n",
        "    display(HTML(html))\n",
        "\n",
        "if result.empty:\n",
        "  print(\"Nothing to display :)\")\n",
        "else:\n",
        "  for index, row in result.iterrows():\n",
        "      display_hotel_details(row)\n",
        "  print(\"\\n\")\n",
        "  hotel_name = input(\"Enter full name of the hotel to see more details: \")\n",
        "  hotel = df[df['name']==hotel_name]\n",
        "\n",
        "  if not hotel.empty:\n",
        "    hotel = hotel.iloc[0,:]\n",
        "    print(\"\\n\\n +++++++++++++++++++++++ More detailed info +++++++++++++++++++\")\n",
        "    display_hotel_details(hotel)\n",
        "    display_more_hotel_pictures(hotel)\n",
        "  else:\n",
        "    print(\"\\n Try another name or please write the full name of the hotel\")\n"
      ],
      "metadata": {
        "colab": {
          "base_uri": "https://localhost:8080/",
          "height": 1000
        },
        "id": "xqTtguqxvuya",
        "outputId": "092213c1-5f2f-41df-8456-0cde1ea4647a"
      },
      "execution_count": null,
      "outputs": [
        {
          "output_type": "stream",
          "name": "stdout",
          "text": [
            "Enter lowest price value: 100\n",
            "Enter highest price value: 400\n",
            "Enter minimum review score value (1 - 5): 1\n",
            "Enter maximum review score value (1 - 5): 5\n",
            "Enter the minimum hotel rating (out of 5) value: 0\n",
            "How do you want it to be sorted by?: \n",
            " Enter 1 to sort it by price \n",
            " Enter 2 to sort it by review score \n",
            " Enter 3 to sort it by rating \n",
            "3\n",
            "\n",
            "======================= RESULTS sorted by rating (out of 5)=========================\n",
            "\n"
          ]
        },
        {
          "output_type": "display_data",
          "data": {
            "text/plain": [
              "<IPython.core.display.HTML object>"
            ],
            "text/html": [
              "\n",
              "  <div style=\"display: flex; align-items: center; margin-bottom: 20px;\">\n",
              "          <img src=\"https://ak-d.tripcdn.com/images/2004160000010hclm83B9_R_960_660_R5_D.jpg\" alt=\"Just Hotel Milano\" style=\"width: 200px; height: auto; margin-right: 20px;\">\n",
              "      <div>\n",
              "          <h4 style=\"font-size:18px\"> <strong>Just Hotel Milano</strong></h4><br>\n",
              "          <i><strong>Price (in €):</strong></i> 287.0<br>\n",
              "          # <i><strong>Distance from center (in KM):</strong></i> 0<br>\n",
              "          <i><strong>Review Score:</strong></i> 4.1<br>\n",
              "          <i><strong>Rating (out of 5):</strong></i> 4<br>\n",
              "          <i><strong>Address:</strong></i> Via Napo Torriani, 29, Milan, Lombardy 20124, Italy<br>\n",
              "      </div>\n",
              "  </div>\n",
              "  "
            ]
          },
          "metadata": {}
        },
        {
          "output_type": "display_data",
          "data": {
            "text/plain": [
              "<IPython.core.display.HTML object>"
            ],
            "text/html": [
              "\n",
              "  <div style=\"display: flex; align-items: center; margin-bottom: 20px;\">\n",
              "          <img src=\"https://ak-d.tripcdn.com/images/0584s12000ctsgj5zAF86_R_960_660_R5_D.jpg\" alt=\"Hotel Blaise & Francis\" style=\"width: 200px; height: auto; margin-right: 20px;\">\n",
              "      <div>\n",
              "          <h4 style=\"font-size:18px\"> <strong>Hotel Blaise & Francis</strong></h4><br>\n",
              "          <i><strong>Price (in €):</strong></i> 158.0<br>\n",
              "          # <i><strong>Distance from center (in KM):</strong></i> 0<br>\n",
              "          <i><strong>Review Score:</strong></i> 3.6<br>\n",
              "          <i><strong>Rating (out of 5):</strong></i> 4<br>\n",
              "          <i><strong>Address:</strong></i> Via Enrico Annibale Butti 9, Milan, Lombardy 20158, Italy<br>\n",
              "      </div>\n",
              "  </div>\n",
              "  "
            ]
          },
          "metadata": {}
        },
        {
          "output_type": "display_data",
          "data": {
            "text/plain": [
              "<IPython.core.display.HTML object>"
            ],
            "text/html": [
              "\n",
              "  <div style=\"display: flex; align-items: center; margin-bottom: 20px;\">\n",
              "          <img src=\"https://ak-d.tripcdn.com/images/22010g0000008512786F3_R_960_660_R5_D.jpg\" alt=\"DoubleTree by Hilton Milan\" style=\"width: 200px; height: auto; margin-right: 20px;\">\n",
              "      <div>\n",
              "          <h4 style=\"font-size:18px\"> <strong>DoubleTree by Hilton Milan</strong></h4><br>\n",
              "          <i><strong>Price (in €):</strong></i> 255.0<br>\n",
              "          # <i><strong>Distance from center (in KM):</strong></i> 0<br>\n",
              "          <i><strong>Review Score:</strong></i> 4.3<br>\n",
              "          <i><strong>Rating (out of 5):</strong></i> 4<br>\n",
              "          <i><strong>Address:</strong></i> Via Ludovico Di Breme 77, Milan, Lombardy 20156, Italy<br>\n",
              "      </div>\n",
              "  </div>\n",
              "  "
            ]
          },
          "metadata": {}
        },
        {
          "output_type": "display_data",
          "data": {
            "text/plain": [
              "<IPython.core.display.HTML object>"
            ],
            "text/html": [
              "\n",
              "  <div style=\"display: flex; align-items: center; margin-bottom: 20px;\">\n",
              "          <img src=\"https://ak-d.tripcdn.com/images/0223312000a0j88ne4DF3_R_960_660_R5_D.jpg\" alt=\"IH Hotels Milano Eur - Trezzano Sul Naviglio\" style=\"width: 200px; height: auto; margin-right: 20px;\">\n",
              "      <div>\n",
              "          <h4 style=\"font-size:18px\"> <strong>IH Hotels Milano Eur - Trezzano Sul Naviglio</strong></h4><br>\n",
              "          <i><strong>Price (in €):</strong></i> 163.0<br>\n",
              "          # <i><strong>Distance from center (in KM):</strong></i> 0<br>\n",
              "          <i><strong>Review Score:</strong></i> 3.7<br>\n",
              "          <i><strong>Rating (out of 5):</strong></i> 4<br>\n",
              "          <i><strong>Address:</strong></i> Viale Leonardo da Vinci, 36 A, Trezzano sul Naviglio, Lombardy 20090, Italy<br>\n",
              "      </div>\n",
              "  </div>\n",
              "  "
            ]
          },
          "metadata": {}
        },
        {
          "output_type": "display_data",
          "data": {
            "text/plain": [
              "<IPython.core.display.HTML object>"
            ],
            "text/html": [
              "\n",
              "  <div style=\"display: flex; align-items: center; margin-bottom: 20px;\">\n",
              "          <img src=\"https://ak-d.tripcdn.com/images/0227212000a6gz08nFD71_R_960_660_R5_D.jpg\" alt=\"Hotel Raffaello\" style=\"width: 200px; height: auto; margin-right: 20px;\">\n",
              "      <div>\n",
              "          <h4 style=\"font-size:18px\"> <strong>Hotel Raffaello</strong></h4><br>\n",
              "          <i><strong>Price (in €):</strong></i> 179.0<br>\n",
              "          # <i><strong>Distance from center (in KM):</strong></i> 0<br>\n",
              "          <i><strong>Review Score:</strong></i> 4.3<br>\n",
              "          <i><strong>Rating (out of 5):</strong></i> 4<br>\n",
              "          <i><strong>Address:</strong></i> Viale Certosa, 108, Milan, Lombardy 20156, Italy<br>\n",
              "      </div>\n",
              "  </div>\n",
              "  "
            ]
          },
          "metadata": {}
        },
        {
          "output_type": "display_data",
          "data": {
            "text/plain": [
              "<IPython.core.display.HTML object>"
            ],
            "text/html": [
              "\n",
              "  <div style=\"display: flex; align-items: center; margin-bottom: 20px;\">\n",
              "          <img src=\"https://ak-d.tripcdn.com/images/20090c0000006o9x908AD_R_960_660_R5_D.jpg\" alt=\"Grand Visconti Palace\" style=\"width: 200px; height: auto; margin-right: 20px;\">\n",
              "      <div>\n",
              "          <h4 style=\"font-size:18px\"> <strong>Grand Visconti Palace</strong></h4><br>\n",
              "          <i><strong>Price (in €):</strong></i> 381.0<br>\n",
              "          # <i><strong>Distance from center (in KM):</strong></i> 0<br>\n",
              "          <i><strong>Review Score:</strong></i> 4.3<br>\n",
              "          <i><strong>Rating (out of 5):</strong></i> 4<br>\n",
              "          <i><strong>Address:</strong></i> Viale Isonzo, 14, Milan, Lombardy 20135, Italy<br>\n",
              "      </div>\n",
              "  </div>\n",
              "  "
            ]
          },
          "metadata": {}
        },
        {
          "output_type": "display_data",
          "data": {
            "text/plain": [
              "<IPython.core.display.HTML object>"
            ],
            "text/html": [
              "\n",
              "  <div style=\"display: flex; align-items: center; margin-bottom: 20px;\">\n",
              "          <img src=\"https://ak-d.tripcdn.com/images/1mc4012000dxeoqal3A1B_R_960_660_R5_D.jpg\" alt=\"Voco Milan-Fiere, an IHG Hotel\" style=\"width: 200px; height: auto; margin-right: 20px;\">\n",
              "      <div>\n",
              "          <h4 style=\"font-size:18px\"> <strong>Voco Milan-Fiere, an IHG Hotel</strong></h4><br>\n",
              "          <i><strong>Price (in €):</strong></i> 210.0<br>\n",
              "          # <i><strong>Distance from center (in KM):</strong></i> 0<br>\n",
              "          <i><strong>Review Score:</strong></i> 4.5<br>\n",
              "          <i><strong>Rating (out of 5):</strong></i> 4<br>\n",
              "          <i><strong>Address:</strong></i> Via Giorgio Stephenson, 55, Milan, Lombardy 20157, Italy<br>\n",
              "      </div>\n",
              "  </div>\n",
              "  "
            ]
          },
          "metadata": {}
        },
        {
          "output_type": "display_data",
          "data": {
            "text/plain": [
              "<IPython.core.display.HTML object>"
            ],
            "text/html": [
              "\n",
              "  <div style=\"display: flex; align-items: center; margin-bottom: 20px;\">\n",
              "          <img src=\"https://ak-d.tripcdn.com/images/0586612000cs53jcnE03D_R_960_660_R5_D.jpg\" alt=\"Belstay Milano Linate\" style=\"width: 200px; height: auto; margin-right: 20px;\">\n",
              "      <div>\n",
              "          <h4 style=\"font-size:18px\"> <strong>Belstay Milano Linate</strong></h4><br>\n",
              "          <i><strong>Price (in €):</strong></i> 163.0<br>\n",
              "          # <i><strong>Distance from center (in KM):</strong></i> 0<br>\n",
              "          <i><strong>Review Score:</strong></i> 4.1<br>\n",
              "          <i><strong>Rating (out of 5):</strong></i> 4<br>\n",
              "          <i><strong>Address:</strong></i> Via Bruno Buozzi, 2, Peschiera Borromeo, Lombardy 20068, Italy<br>\n",
              "      </div>\n",
              "  </div>\n",
              "  "
            ]
          },
          "metadata": {}
        },
        {
          "output_type": "display_data",
          "data": {
            "text/plain": [
              "<IPython.core.display.HTML object>"
            ],
            "text/html": [
              "\n",
              "  <div style=\"display: flex; align-items: center; margin-bottom: 20px;\">\n",
              "          <img src=\"https://ak-d.tripcdn.com/images/1mc3q12000d970vikB5FB_R_960_660_R5_D.jpg\" alt=\"UNAHOTELS Galles Milano\" style=\"width: 200px; height: auto; margin-right: 20px;\">\n",
              "      <div>\n",
              "          <h4 style=\"font-size:18px\"> <strong>UNAHOTELS Galles Milano</strong></h4><br>\n",
              "          <i><strong>Price (in €):</strong></i> 252.0<br>\n",
              "          # <i><strong>Distance from center (in KM):</strong></i> 0<br>\n",
              "          <i><strong>Review Score:</strong></i> 4.3<br>\n",
              "          <i><strong>Rating (out of 5):</strong></i> 4<br>\n",
              "          <i><strong>Address:</strong></i> Piazza Lima, 2, Milan, Lombardy 20124, Italy<br>\n",
              "      </div>\n",
              "  </div>\n",
              "  "
            ]
          },
          "metadata": {}
        },
        {
          "output_type": "display_data",
          "data": {
            "text/plain": [
              "<IPython.core.display.HTML object>"
            ],
            "text/html": [
              "\n",
              "  <div style=\"display: flex; align-items: center; margin-bottom: 20px;\">\n",
              "          <img src=\"https://ak-d.tripcdn.com/images/0221e12000a29m79h1948_R_960_660_R5_D.jpg\" alt=\"Holiday Inn Nord-Zara\" style=\"width: 200px; height: auto; margin-right: 20px;\">\n",
              "      <div>\n",
              "          <h4 style=\"font-size:18px\"> <strong>Holiday Inn Nord-Zara</strong></h4><br>\n",
              "          <i><strong>Price (in €):</strong></i> 163.0<br>\n",
              "          # <i><strong>Distance from center (in KM):</strong></i> 0<br>\n",
              "          <i><strong>Review Score:</strong></i> 4.4<br>\n",
              "          <i><strong>Rating (out of 5):</strong></i> 4<br>\n",
              "          <i><strong>Address:</strong></i> Via Cornaggia, 44, Cinisello Balsamo, Lombardy 20092, Italy<br>\n",
              "      </div>\n",
              "  </div>\n",
              "  "
            ]
          },
          "metadata": {}
        },
        {
          "output_type": "stream",
          "name": "stdout",
          "text": [
            "\n",
            "\n",
            "Enter full name of the hotel to see more details: Holiday Inn Nord-Zara\n",
            "\n",
            "\n",
            " +++++++++++++++++++++++ More detailed info +++++++++++++++++++\n"
          ]
        },
        {
          "output_type": "display_data",
          "data": {
            "text/plain": [
              "<IPython.core.display.HTML object>"
            ],
            "text/html": [
              "\n",
              "  <div style=\"display: flex; align-items: center; margin-bottom: 20px;\">\n",
              "          <img src=\"https://ak-d.tripcdn.com/images/0221e12000a29m79h1948_R_960_660_R5_D.jpg\" alt=\"Holiday Inn Nord-Zara\" style=\"width: 200px; height: auto; margin-right: 20px;\">\n",
              "      <div>\n",
              "          <h4 style=\"font-size:18px\"> <strong>Holiday Inn Nord-Zara</strong></h4><br>\n",
              "          <i><strong>Price (in €):</strong></i> 163.0<br>\n",
              "          # <i><strong>Distance from center (in KM):</strong></i> 0<br>\n",
              "          <i><strong>Review Score:</strong></i> 4.4<br>\n",
              "          <i><strong>Rating (out of 5):</strong></i> 4<br>\n",
              "          <i><strong>Address:</strong></i> Via Cornaggia, 44, Cinisello Balsamo, Lombardy 20092, Italy<br>\n",
              "      </div>\n",
              "  </div>\n",
              "  "
            ]
          },
          "metadata": {}
        },
        {
          "output_type": "stream",
          "name": "stdout",
          "text": [
            "Here some more photos of the hotel :)\n"
          ]
        },
        {
          "output_type": "display_data",
          "data": {
            "text/plain": [
              "<IPython.core.display.HTML object>"
            ],
            "text/html": [
              "\n",
              "    <div style=\"display: flex; align-items: center; margin-bottom: 20px;\">\n",
              "    \n",
              "        <div style=\"margin-right: 20px;\">\n",
              "            <img src=\"https://ak-d.tripcdn.com/images/02220120009tv0gdiCD61_R_339_206_R5_D.jpg\" alt=\"Holiday Inn Nord-Zara\" style=\"width: 200px; height: auto;\">\n",
              "        </div>\n",
              "        \n",
              "        <div style=\"margin-right: 20px;\">\n",
              "            <img src=\"https://ak-d.tripcdn.com/images/0220i120009c31l8l315A_R_339_206_R5_D.jpg\" alt=\"Holiday Inn Nord-Zara\" style=\"width: 200px; height: auto;\">\n",
              "        </div>\n",
              "        \n",
              "        <div style=\"margin-right: 20px;\">\n",
              "            <img src=\"https://ak-d.tripcdn.com/images/0585812000fwh85m6C93E_R_339_206_R5_D.jpg\" alt=\"Holiday Inn Nord-Zara\" style=\"width: 200px; height: auto;\">\n",
              "        </div>\n",
              "        \n",
              "    </div>\n",
              "    \n",
              "    <div>\n",
              "        <p style=\"font-size: 16px; color: #555;\">Stylish Milan hotel with a chic restaurant, onsite meeting facilities and free Wi-FiHoliday Inn® Milan Nord – Zara hotel is next to the A4 motorway and a 20-minute drive from Milan Linate Airport (LIN).Major companies including Sony, IBM and Directline are close by, and you can host clients in 5 onsite meeting rooms with space for up to 100 guests. There's direct access to the city centre from SestoFS metro station, 15 minutes’ walk away. There you can discover the Duomo – the striking marble cathedral with incredible rooftop views, and Leonardo da Vinci’s famous mural, The Last Supper. Less than 20 minutes’ drive from the hotel, you can catch an AC Milan or Inter Milan game at the San Siro stadium, or motor racing at the Autodromo Nazionale Monza.At this hotel you can enjoy:- A mini-gym- Free Wi-Fi- A 24-hour Business Centre- Free onsite parkingSmart bedrooms all have a desk where you can work, LCD TVs and pillow menus to help ensure a good night’s sleep. Executive rooms come with extra sofa beds, and family rooms have cosy bunks for kids. The hotel has an attractive design throughout, while the A4 restaurant, serving Italian dishes, has a classic 1950s theme. After a busy day you can enjoy cocktails with friends or colleagues in the comfortable bar or relax on the patio in the garden.</p>\n",
              "    </div>\n",
              "    "
            ]
          },
          "metadata": {}
        }
      ]
    }
  ]
}