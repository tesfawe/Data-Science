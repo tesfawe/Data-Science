{
 "cells": [
  {
   "cell_type": "markdown",
   "metadata": {
    "id": "LUpbVINNV6ED"
   },
   "source": [
    "### Installation"
   ]
  },
  {
   "cell_type": "code",
   "execution_count": 1,
   "metadata": {
    "colab": {
     "base_uri": "https://localhost:8080/"
    },
    "id": "6ZVPcO3CsDXW",
    "outputId": "978ebf79-7141-46f9-e8bd-c02409039968",
    "scrolled": false
   },
   "outputs": [
    {
     "name": "stdout",
     "output_type": "stream",
     "text": [
      "Requirement already satisfied: beautifulsoup4 in /home/tesphi/anaconda3/lib/python3.9/site-packages (4.10.0)\n",
      "Requirement already satisfied: soupsieve>1.2 in /home/tesphi/anaconda3/lib/python3.9/site-packages (from beautifulsoup4) (2.4)\n",
      "\n",
      "\u001b[1m[\u001b[0m\u001b[34;49mnotice\u001b[0m\u001b[1;39;49m]\u001b[0m\u001b[39;49m A new release of pip is available: \u001b[0m\u001b[31;49m23.3.1\u001b[0m\u001b[39;49m -> \u001b[0m\u001b[32;49m24.2\u001b[0m\n",
      "\u001b[1m[\u001b[0m\u001b[34;49mnotice\u001b[0m\u001b[1;39;49m]\u001b[0m\u001b[39;49m To update, run: \u001b[0m\u001b[32;49mpip install --upgrade pip\u001b[0m\n",
      "Requirement already satisfied: requests in /home/tesphi/anaconda3/lib/python3.9/site-packages (2.31.0)\n",
      "Requirement already satisfied: charset-normalizer<4,>=2 in /home/tesphi/anaconda3/lib/python3.9/site-packages (from requests) (2.0.4)\n",
      "Requirement already satisfied: idna<4,>=2.5 in /home/tesphi/anaconda3/lib/python3.9/site-packages (from requests) (3.4)\n",
      "Requirement already satisfied: urllib3<3,>=1.21.1 in /home/tesphi/anaconda3/lib/python3.9/site-packages (from requests) (2.0.5)\n",
      "Requirement already satisfied: certifi>=2017.4.17 in /home/tesphi/anaconda3/lib/python3.9/site-packages (from requests) (2023.7.22)\n",
      "\n",
      "\u001b[1m[\u001b[0m\u001b[34;49mnotice\u001b[0m\u001b[1;39;49m]\u001b[0m\u001b[39;49m A new release of pip is available: \u001b[0m\u001b[31;49m23.3.1\u001b[0m\u001b[39;49m -> \u001b[0m\u001b[32;49m24.2\u001b[0m\n",
      "\u001b[1m[\u001b[0m\u001b[34;49mnotice\u001b[0m\u001b[1;39;49m]\u001b[0m\u001b[39;49m To update, run: \u001b[0m\u001b[32;49mpip install --upgrade pip\u001b[0m\n"
     ]
    }
   ],
   "source": [
    "!pip install beautifulsoup4\n",
    "!pip install requests"
   ]
  },
  {
   "cell_type": "code",
   "execution_count": 2,
   "metadata": {
    "colab": {
     "base_uri": "https://localhost:8080/"
    },
    "id": "BJUrJS0Hgg99",
    "outputId": "74cdf62e-30ed-4986-91a3-195c2221e406",
    "scrolled": true
   },
   "outputs": [],
   "source": [
    "import requests\n",
    "from bs4 import BeautifulSoup as bs\n"
   ]
  },
  {
   "cell_type": "code",
   "execution_count": 3,
   "metadata": {
    "colab": {
     "base_uri": "https://localhost:8080/"
    },
    "id": "-Q9hCAoxj0ga",
    "outputId": "25c64a98-7e08-410d-9639-5084eb3f9f8c"
   },
   "outputs": [
    {
     "name": "stdout",
     "output_type": "stream",
     "text": [
      "Success\n"
     ]
    }
   ],
   "source": [
    "headers = {\n",
    "    'User-Agent': 'Mozilla/5.0 (Windows NT 10.0; Win64; x64) AppleWebKit/537.36 (KHTML, like Gecko) Chrome/112.0.0.0 Safari/537.36'\n",
    "}\n",
    "url = \"https://www.booking.com/searchresults.en-gb.html?ss=Milan&ssne=Milan&ssne_untouched=Milan&highlighted_hotels=9813567&efdco=1&label=gog235jc-1DCAsocUIWNTAtcGFwaW5pYW5vLWFwYXJ0bWVudEgzWANoSIgBAZgBCbgBF8gBDNgBA-gBAYgCAagCA7gC0aGwtwbAAgHSAiQ4MGQwNTZmZS1mNjdhLTQ5OGMtYTlmYi1hY2U4MjcwYmI2OGXYAgTgAgE&sid=c93278ebe5554bec69805941eb4a6f66&aid=356980&lang=en-gb&sb=1&src_elem=sb&src=searchresults&dest_id=-121726&dest_type=city&checkin=2024-12-01&checkout=2024-12-03&group_adults=30&no_rooms=1&group_children=1&age=0\"\n",
    "r = requests.get(url, headers=headers)\n",
    "\n",
    "if r.status_code == 200:\n",
    "    print('Success')\n",
    "elif r.status_code == 404:\n",
    "    print('Not Found')\n",
    "\n"
   ]
  },
  {
   "cell_type": "code",
   "execution_count": 14,
   "metadata": {},
   "outputs": [],
   "source": [
    "from selenium import webdriver\n",
    "from selenium.webdriver.chrome.service import Service\n",
    "from selenium.common.exceptions import NoSuchElementException, ElementNotInteractableException\n",
    "import time\n",
    "\n",
    "driver = webdriver.Chrome(service =Service(\"/snap/bin/chromium.chromedriver\"))  \n",
    "driver.get(url)  \n",
    "\n",
    "# Scroll down to load more content (auto-load/infinite scroll)\n",
    "last_height = driver.execute_script(\"return document.body.scrollHeight\")\n",
    "\n",
    "# Scroll until we find the \"Load more results\" button\n",
    "while True:\n",
    "    try:\n",
    "        # Try to find the \"Load more results\" button using the span text\n",
    "        load_more_button = driver.find_element(\"xpath\", '//button[.//span[text()=\"Load more results\"]]')\n",
    "        if load_more_button:\n",
    "            break  \n",
    "    except NoSuchElementException:\n",
    "        # Scroll down to load more content\n",
    "        driver.execute_script(\"window.scrollTo(0, document.body.scrollHeight);\")\n",
    "        time.sleep(2)  \n",
    "        \n",
    "    # Calculate new scroll height and compare with the last height\n",
    "    new_height = driver.execute_script(\"return document.body.scrollHeight\")\n",
    "    if new_height == last_height:\n",
    "        break\n",
    "    last_height = new_height\n",
    "\n",
    "# Click \"Load more results\" button iteratively until no more results\n",
    "while True:\n",
    "    try:\n",
    "        load_more_button = driver.find_element(\"xpath\", '//button[.//span[text()=\"Load more results\"]]')\n",
    "        load_more_button.click()\n",
    "        time.sleep(5)  \n",
    "    except (NoSuchElementException, ElementNotInteractableException):\n",
    "        # No more \"Load more results\" button\n",
    "        break\n",
    "\n",
    "    # Scrolling to load more dynamic content \n",
    "    driver.execute_script(\"window.scrollTo(0, document.body.scrollHeight);\")\n",
    "    time.sleep(2)\n",
    "    \n",
    "soup = bs(driver.page_source, \"html.parser\")\n",
    "\n",
    "driver.quit()"
   ]
  },
  {
   "cell_type": "code",
   "execution_count": 15,
   "metadata": {
    "id": "lctGa16CugW7",
    "scrolled": false
   },
   "outputs": [],
   "source": [
    "hotel_name_list = []\n",
    "hotel_image_list = []\n",
    "hotel_price_list = []\n",
    "hotel_rating_list =[]\n",
    "hotel_review_score_list = []\n",
    "distance_from_center_list = []\n",
    "hotel_address_list = []\n",
    "hotel_summary_list = []\n",
    "\n",
    "# Function to get the address\n",
    "import re\n",
    "\n",
    "# Loop through all listings\n",
    "listings = soup.find_all('div', {\"data-testid\": \"property-card\"})\n",
    "for listing in listings:\n",
    "    # Get name of the hotel\n",
    "    name = listing.find('div', {\"data-testid\": \"title\"}).text\n",
    "\n",
    "    # Get distance from the city center\n",
    "    distance = listing.find('span', {'data-testid': 'distance'})\n",
    "    \n",
    "    # Filter only the numberic value not the whole text and convert to float data type\n",
    "    str_distance = distance.text\n",
    "    match = re.search(r'\\d+(\\.\\d+)?', str_distance)\n",
    "\n",
    "    f_distance = float(match.group())\n",
    "    if 'm' in str_distance and 'km' not in str_distance:\n",
    "        # Convert meters to kilometers\n",
    "        f_distance = f_distance / 1000.0\n",
    "\n",
    "    # Get price\n",
    "    price = listing.find('span', {'data-testid': 'price-and-discounted-price'})\n",
    "    if not price:\n",
    "        continue\n",
    "    else:\n",
    "        f_price = float(price.text.replace('€', '').replace(',', '').strip())\n",
    "        \n",
    "    # Get review score\n",
    "    rating = listing.find('div', class_=\"a3b8729ab1 d86cee9b25\")\n",
    "    review_score_div = rating.find('div', {'class': 'ac4a7896c7'})\n",
    "    review_score_parent = review_score_div.text if review_score_div else ''\n",
    "    review_score = float(rating.text.replace(review_score_parent, '').strip())\n",
    "        \n",
    "\n",
    "    # Get address\n",
    "    hotel_url = listing.find('a', {'class': 'a83ed08757 f88a5204c2 a1ae279108 b98133fb50'})['href']\n",
    "    hotel_soup = bs(requests.get(hotel_url, headers=headers).text, 'html.parser')\n",
    "    address = hotel_soup.find('span', class_='hp_address_subtitle js-hp_address_subtitle jq_tooltip').text\n",
    "        \n",
    "    #Get 3 images of the hotel \n",
    "    h_images = []\n",
    "    images = hotel_soup.find_all('img', class_='hide')\n",
    "    for i in range(0, len(images)):\n",
    "        h_images.append(images[i]['src'])\n",
    "        if i==3:\n",
    "            break\n",
    "            \n",
    "    # Get hotel rating \n",
    "    hotel_rating = None\n",
    "    hotel_rating_div = listing.find('div', class_='b3f3c831be')\n",
    "    if hotel_rating_div:\n",
    "        hotel_rating = hotel_rating_div['aria-label'][0]\n",
    "     \n",
    "    summary = hotel_soup.find('p', {\"data-testid\": \"property-description\"}).text\n",
    "    \n",
    "    \n",
    "    hotel_summary_list.append(summary)\n",
    "    hotel_name_list.append(name) \n",
    "    hotel_image_list.append(h_images)\n",
    "    hotel_price_list.append(f_price) \n",
    "    hotel_rating_list.append(hotel_rating) \n",
    "    hotel_review_score_list.append(review_score)\n",
    "    distance_from_center_list.append(f_distance)\n",
    "    hotel_address_list.append(address)\n"
   ]
  },
  {
   "cell_type": "code",
   "execution_count": 18,
   "metadata": {},
   "outputs": [
    {
     "data": {
      "text/html": [
       "<div>\n",
       "<style scoped>\n",
       "    .dataframe tbody tr th:only-of-type {\n",
       "        vertical-align: middle;\n",
       "    }\n",
       "\n",
       "    .dataframe tbody tr th {\n",
       "        vertical-align: top;\n",
       "    }\n",
       "\n",
       "    .dataframe thead th {\n",
       "        text-align: right;\n",
       "    }\n",
       "</style>\n",
       "<table border=\"1\" class=\"dataframe\">\n",
       "  <thead>\n",
       "    <tr style=\"text-align: right;\">\n",
       "      <th></th>\n",
       "      <th>name</th>\n",
       "      <th>price (in €)</th>\n",
       "      <th>rating (out of 5)</th>\n",
       "      <th>review score</th>\n",
       "      <th>distance from center (in KM)</th>\n",
       "      <th>address</th>\n",
       "      <th>images</th>\n",
       "      <th>summary</th>\n",
       "    </tr>\n",
       "  </thead>\n",
       "  <tbody>\n",
       "    <tr>\n",
       "      <th>0</th>\n",
       "      <td>Casa Brera</td>\n",
       "      <td>21356.0</td>\n",
       "      <td>5</td>\n",
       "      <td>8.8</td>\n",
       "      <td>0.40</td>\n",
       "      <td>\\nPiazzetta M Bossi No 2, Milan City Centre, 2...</td>\n",
       "      <td>[https://cf.bstatic.com/xdata/images/hotel/max...</td>\n",
       "      <td>Casa Brera has an outdoor swimming pool, fitne...</td>\n",
       "    </tr>\n",
       "    <tr>\n",
       "      <th>1</th>\n",
       "      <td>Milan Retreats</td>\n",
       "      <td>3220.0</td>\n",
       "      <td>4</td>\n",
       "      <td>9.1</td>\n",
       "      <td>2.70</td>\n",
       "      <td>\\nDifferent locations in Milan Central Station...</td>\n",
       "      <td>[https://cf.bstatic.com/xdata/images/hotel/max...</td>\n",
       "      <td>Featuring air-conditioned apartments with free...</td>\n",
       "    </tr>\n",
       "    <tr>\n",
       "      <th>2</th>\n",
       "      <td>Dreams Hotel Residenza Gambara</td>\n",
       "      <td>3070.0</td>\n",
       "      <td>3</td>\n",
       "      <td>7.7</td>\n",
       "      <td>3.50</td>\n",
       "      <td>\\nVia Fornari 20, San Siro, 20146 Milan, Italy\\n</td>\n",
       "      <td>[https://cf.bstatic.com/xdata/images/hotel/max...</td>\n",
       "      <td>Set less than a 5-minute walk from Milan Gamba...</td>\n",
       "    </tr>\n",
       "    <tr>\n",
       "      <th>3</th>\n",
       "      <td>Residence Milano Bicocca</td>\n",
       "      <td>2420.0</td>\n",
       "      <td>3</td>\n",
       "      <td>7.9</td>\n",
       "      <td>6.90</td>\n",
       "      <td>\\nViale Sarca 322, Bicocca - Zara, 20125 Milan...</td>\n",
       "      <td>[https://cf.bstatic.com/xdata/images/hotel/max...</td>\n",
       "      <td>Residence Milano Bicocca offers self-catering ...</td>\n",
       "    </tr>\n",
       "    <tr>\n",
       "      <th>4</th>\n",
       "      <td>Milan Retreats Duomo</td>\n",
       "      <td>4788.0</td>\n",
       "      <td>4</td>\n",
       "      <td>9.1</td>\n",
       "      <td>0.25</td>\n",
       "      <td>\\nDifferent locations in Milan, Milan City Cen...</td>\n",
       "      <td>[https://cf.bstatic.com/xdata/images/hotel/max...</td>\n",
       "      <td>Situated in the centre of Milan and close to s...</td>\n",
       "    </tr>\n",
       "  </tbody>\n",
       "</table>\n",
       "</div>"
      ],
      "text/plain": [
       "                             name  price (in €)  rating (out of 5)  \\\n",
       "0                      Casa Brera       21356.0                  5   \n",
       "1                  Milan Retreats        3220.0                  4   \n",
       "2  Dreams Hotel Residenza Gambara        3070.0                  3   \n",
       "3        Residence Milano Bicocca        2420.0                  3   \n",
       "4            Milan Retreats Duomo        4788.0                  4   \n",
       "\n",
       "   review score  distance from center (in KM)  \\\n",
       "0           8.8                          0.40   \n",
       "1           9.1                          2.70   \n",
       "2           7.7                          3.50   \n",
       "3           7.9                          6.90   \n",
       "4           9.1                          0.25   \n",
       "\n",
       "                                             address  \\\n",
       "0  \\nPiazzetta M Bossi No 2, Milan City Centre, 2...   \n",
       "1  \\nDifferent locations in Milan Central Station...   \n",
       "2   \\nVia Fornari 20, San Siro, 20146 Milan, Italy\\n   \n",
       "3  \\nViale Sarca 322, Bicocca - Zara, 20125 Milan...   \n",
       "4  \\nDifferent locations in Milan, Milan City Cen...   \n",
       "\n",
       "                                              images  \\\n",
       "0  [https://cf.bstatic.com/xdata/images/hotel/max...   \n",
       "1  [https://cf.bstatic.com/xdata/images/hotel/max...   \n",
       "2  [https://cf.bstatic.com/xdata/images/hotel/max...   \n",
       "3  [https://cf.bstatic.com/xdata/images/hotel/max...   \n",
       "4  [https://cf.bstatic.com/xdata/images/hotel/max...   \n",
       "\n",
       "                                             summary  \n",
       "0  Casa Brera has an outdoor swimming pool, fitne...  \n",
       "1  Featuring air-conditioned apartments with free...  \n",
       "2  Set less than a 5-minute walk from Milan Gamba...  \n",
       "3  Residence Milano Bicocca offers self-catering ...  \n",
       "4  Situated in the centre of Milan and close to s...  "
      ]
     },
     "execution_count": 18,
     "metadata": {},
     "output_type": "execute_result"
    }
   ],
   "source": [
    "# Importing numpy to use the fillna and isna methods\n",
    "import numpy as np\n",
    "import pandas as pd\n",
    "df = pd.DataFrame({'name': hotel_name_list, 'price (in €)': hotel_price_list, 'rating (out of 5)': hotel_rating_list,\n",
    "                   'review score': hotel_review_score_list, 'distance from center (in KM)': distance_from_center_list, \n",
    "                   'address': hotel_address_list, 'images':hotel_image_list, 'summary': hotel_summary_list})\n",
    "\n",
    "# Making copy of the original dataframe in local device for backup\n",
    "# df.to_csv(\"bookingdotcom_with_missing_values.csv\")\n",
    "\n",
    "# Some hotel have no rating, replace the Nan values with median \n",
    "df[\"rating (out of 5)\"] = df[\"rating (out of 5)\"].fillna(value=np.nan)\n",
    "df[\"rating (out of 5)\"] = df[\"rating (out of 5)\"].fillna(df[\"rating (out of 5)\"].median())\n",
    "df[\"rating (out of 5)\"] = df[\"rating (out of 5)\"].astype(int)\n",
    "\n",
    "# Saving the datafram after replacing the missing values \n",
    "# df.to_csv(\"bookingdotcom_without_missing_values.csv\")\n",
    "df.head()\n"
   ]
  },
  {
   "cell_type": "code",
   "execution_count": 19,
   "metadata": {},
   "outputs": [
    {
     "data": {
      "image/png": "[encoded data removed]",
      "text/plain": [
       "<Figure size 800x600 with 1 Axes>"
      ]
     },
     "metadata": {},
     "output_type": "display_data"
    }
   ],
   "source": [
    "%matplotlib inline\n",
    "import matplotlib.pyplot  as plt\n",
    "import seaborn as sns\n",
    "\n",
    "sns.set_palette(\"Set1\")\n",
    "\n",
    "plt.figure(figsize=(8, 6))\n",
    "sns.boxplot(df['price (in €)'])\n",
    "# sns.histplot(df['price (in €)'], bins=12, kde=True)\n",
    "# plt.title('Price Distribution')\n",
    "# plt.xlabel('price (in €)')\n",
    "# plt.ylabel('Frequency')\n",
    "plt.show()"
   ]
  },
  {
   "cell_type": "code",
   "execution_count": 8,
   "metadata": {},
   "outputs": [
    {
     "data": {
      "image/png": "[encoded data removed]",
      "text/plain": [
       "<Figure size 800x600 with 1 Axes>"
      ]
     },
     "metadata": {},
     "output_type": "display_data"
    }
   ],
   "source": [
    "%matplotlib inline\n",
    "import matplotlib.pyplot  as plt\n",
    "import seaborn as sns\n",
    "\n",
    "sns.set_palette(\"Set1\")\n",
    "\n",
    "plt.figure(figsize=(8, 6))\n",
    "sns.histplot(df['distance from center (in KM)'], bins=8, kde=True)\n",
    "plt.title('Distance Distribution')\n",
    "plt.xlabel('Distance from center (in KM)')\n",
    "plt.ylabel('Frequency')\n",
    "plt.show()"
   ]
  },
  {
   "cell_type": "code",
   "execution_count": 9,
   "metadata": {},
   "outputs": [
    {
     "data": {
      "image/png": "[encoded data removed]",
      "text/plain": [
       "<Figure size 800x600 with 1 Axes>"
      ]
     },
     "metadata": {},
     "output_type": "display_data"
    }
   ],
   "source": [
    "%matplotlib inline\n",
    "import matplotlib.pyplot  as plt\n",
    "import seaborn as sns\n",
    "\n",
    "sns.set_palette(\"Set1\")\n",
    "plt.figure(figsize=(8, 6))\n",
    "rating_counts = df['rating (out of 5)'].value_counts()\n",
    "sns.barplot(x=rating_counts.index, y=rating_counts.values)\n",
    "plt.title('Rating Distribution')\n",
    "plt.xlabel('Rating Score')\n",
    "plt.ylabel('Frequency')\n",
    "plt.show()"
   ]
  },
  {
   "cell_type": "code",
   "execution_count": 10,
   "metadata": {},
   "outputs": [
    {
     "data": {
      "image/png": "[encoded data removed]",
      "text/plain": [
       "<Figure size 800x600 with 1 Axes>"
      ]
     },
     "metadata": {},
     "output_type": "display_data"
    }
   ],
   "source": [
    "%matplotlib inline\n",
    "import matplotlib.pyplot  as plt\n",
    "import seaborn as sns\n",
    "\n",
    "sns.set_palette(\"Set1\")\n",
    "\n",
    "plt.figure(figsize=(8, 6))\n",
    "sns.boxplot(df['review score'])\n",
    "# plt.title('Review Score Distribution')\n",
    "# plt.xlabel('Review Scores')\n",
    "# plt.ylabel('Frequency')\n",
    "plt.show()"
   ]
  },
  {
   "cell_type": "code",
   "execution_count": 31,
   "metadata": {},
   "outputs": [
    {
     "name": "stdout",
     "output_type": "stream",
     "text": [
      "Enter lowest price value: 0\n",
      "Enter highest price value: 10000\n",
      "Enter minimum distance from center value (in KM): 0.2\n",
      "Enter maximum distance from center value (in KM): 10\n",
      "Enter minimum review score value (1 - 10): 1\n",
      "Enter maximum review score value (1 - 10): 10\n",
      "Enter the minimum hotel rating (out of 5) value: 4\n",
      "How do you want it to be sorted by?: \n",
      " Enter 1 to sort it by price \n",
      " Enter 2 to sort it by distance from center \n",
      " Enter 3 to sort it by review score \n",
      " Enter 4 to sort it by rating \n",
      "2\n",
      "\n",
      "======================= RESULTS sorted by distance from center (in KM)=========================\n",
      "\n"
     ]
    },
    {
     "data": {
      "text/html": [
       "\n",
       "  <div style=\"display: flex; align-items: center; margin-bottom: 20px;\">\n",
       "          <img src=\"https://cf.bstatic.com/xdata/images/hotel/max1024x768/554322014.jpg?k=99ee6c95e1ba143d0f386c48bc30222440ffd854b20e38b9dcb9e7c63307e4e3&o=&hp=1\" alt=\"Milan Retreats Duomo\" style=\"width: 200px; height: auto; margin-right: 20px;\">\n",
       "      <div>\n",
       "          <h4 style=\"font-size:18px\"> <strong>Milan Retreats Duomo</strong></h4><br>\n",
       "          <i><strong>Price (in €):</strong></i> 4788.0<br>\n",
       "          <i><strong>Distance from center (in KM):</strong></i> 0.25<br>\n",
       "          <i><strong>Review Score:</strong></i> 9.1<br>\n",
       "          <i><strong>Rating (out of 5):</strong></i> 4<br>\n",
       "          <i><strong>Address:</strong></i> \n",
       "Different locations in Milan, Milan City Centre, 20123 Milan, Italy\n",
       "<br>\n",
       "      </div>\n",
       "  </div>\n",
       "  "
      ],
      "text/plain": [
       "<IPython.core.display.HTML object>"
      ]
     },
     "metadata": {},
     "output_type": "display_data"
    },
    {
     "data": {
      "text/html": [
       "\n",
       "  <div style=\"display: flex; align-items: center; margin-bottom: 20px;\">\n",
       "          <img src=\"https://cf.bstatic.com/xdata/images/hotel/max1024x768/257436913.jpg?k=636ee60457c6172ad8b58c2fd9532d221c3a4f98ba46edcdb9c16f856c50601b&o=&hp=1\" alt=\"Heart Milan Apartments San Sepolcro Duomo\" style=\"width: 200px; height: auto; margin-right: 20px;\">\n",
       "      <div>\n",
       "          <h4 style=\"font-size:18px\"> <strong>Heart Milan Apartments San Sepolcro Duomo</strong></h4><br>\n",
       "          <i><strong>Price (in €):</strong></i> 4255.0<br>\n",
       "          <i><strong>Distance from center (in KM):</strong></i> 0.25<br>\n",
       "          <i><strong>Review Score:</strong></i> 9.3<br>\n",
       "          <i><strong>Rating (out of 5):</strong></i> 4<br>\n",
       "          <i><strong>Address:</strong></i> \n",
       "Different locations in Milan City Center, Milan City Centre, 20123 Milan, Italy\n",
       "<br>\n",
       "      </div>\n",
       "  </div>\n",
       "  "
      ],
      "text/plain": [
       "<IPython.core.display.HTML object>"
      ]
     },
     "metadata": {},
     "output_type": "display_data"
    },
    {
     "data": {
      "text/html": [
       "\n",
       "  <div style=\"display: flex; align-items: center; margin-bottom: 20px;\">\n",
       "          <img src=\"https://cf.bstatic.com/xdata/images/hotel/max1024x768/228109255.jpg?k=cc4aaf2105e858df6dc34d8d4851ad9a7e1d63afed10936819feeb791249bec9&o=&hp=1\" alt=\"Sina De La Ville\" style=\"width: 200px; height: auto; margin-right: 20px;\">\n",
       "      <div>\n",
       "          <h4 style=\"font-size:18px\"> <strong>Sina De La Ville</strong></h4><br>\n",
       "          <i><strong>Price (in €):</strong></i> 9534.0<br>\n",
       "          <i><strong>Distance from center (in KM):</strong></i> 0.3<br>\n",
       "          <i><strong>Review Score:</strong></i> 8.1<br>\n",
       "          <i><strong>Rating (out of 5):</strong></i> 4<br>\n",
       "          <i><strong>Address:</strong></i> \n",
       "Via Hoepli 6, Milan City Centre, 20121 Milan, Italy\n",
       "<br>\n",
       "      </div>\n",
       "  </div>\n",
       "  "
      ],
      "text/plain": [
       "<IPython.core.display.HTML object>"
      ]
     },
     "metadata": {},
     "output_type": "display_data"
    },
    {
     "data": {
      "text/html": [
       "\n",
       "  <div style=\"display: flex; align-items: center; margin-bottom: 20px;\">\n",
       "          <img src=\"https://cf.bstatic.com/xdata/images/hotel/max1024x768/320199408.jpg?k=825a1df9b7a277a631bfaff1eeefb48e80ec2c0fd19327e8c7e1fb337bab07b1&o=&hp=1\" alt=\"Sweett - Cozy Duomo\" style=\"width: 200px; height: auto; margin-right: 20px;\">\n",
       "      <div>\n",
       "          <h4 style=\"font-size:18px\"> <strong>Sweett - Cozy Duomo</strong></h4><br>\n",
       "          <i><strong>Price (in €):</strong></i> 4263.0<br>\n",
       "          <i><strong>Distance from center (in KM):</strong></i> 0.35<br>\n",
       "          <i><strong>Review Score:</strong></i> 8.4<br>\n",
       "          <i><strong>Rating (out of 5):</strong></i> 4<br>\n",
       "          <i><strong>Address:</strong></i> \n",
       "9 Via Flavio Baracchini, Milan City Centre, 20122 Milan, Italy\n",
       "<br>\n",
       "      </div>\n",
       "  </div>\n",
       "  "
      ],
      "text/plain": [
       "<IPython.core.display.HTML object>"
      ]
     },
     "metadata": {},
     "output_type": "display_data"
    },
    {
     "data": {
      "text/html": [
       "\n",
       "  <div style=\"display: flex; align-items: center; margin-bottom: 20px;\">\n",
       "          <img src=\"https://cf.bstatic.com/xdata/images/hotel/max1024x768/63308705.jpg?k=9d71c52abe764b879b3586680b2e9850bcc8fb881753427ae2a18294ab386ac7&o=&hp=1\" alt=\"Brunelleschi Hotel\" style=\"width: 200px; height: auto; margin-right: 20px;\">\n",
       "      <div>\n",
       "          <h4 style=\"font-size:18px\"> <strong>Brunelleschi Hotel</strong></h4><br>\n",
       "          <i><strong>Price (in €):</strong></i> 7098.0<br>\n",
       "          <i><strong>Distance from center (in KM):</strong></i> 0.4<br>\n",
       "          <i><strong>Review Score:</strong></i> 8.0<br>\n",
       "          <i><strong>Rating (out of 5):</strong></i> 4<br>\n",
       "          <i><strong>Address:</strong></i> \n",
       "Via Baracchini 12, Milan City Centre, 20123 Milan, Italy\n",
       "<br>\n",
       "      </div>\n",
       "  </div>\n",
       "  "
      ],
      "text/plain": [
       "<IPython.core.display.HTML object>"
      ]
     },
     "metadata": {},
     "output_type": "display_data"
    },
    {
     "data": {
      "text/html": [
       "\n",
       "  <div style=\"display: flex; align-items: center; margin-bottom: 20px;\">\n",
       "          <img src=\"https://cf.bstatic.com/xdata/images/hotel/max1024x768/504131307.jpg?k=5ebf86522c9f71715f12337dc9dd756b77d7a21f1614a62c8a72dca4f349688c&o=&hp=1\" alt=\"Duomo Hotel & Apartments\" style=\"width: 200px; height: auto; margin-right: 20px;\">\n",
       "      <div>\n",
       "          <h4 style=\"font-size:18px\"> <strong>Duomo Hotel & Apartments</strong></h4><br>\n",
       "          <i><strong>Price (in €):</strong></i> 5885.0<br>\n",
       "          <i><strong>Distance from center (in KM):</strong></i> 0.4<br>\n",
       "          <i><strong>Review Score:</strong></i> 8.8<br>\n",
       "          <i><strong>Rating (out of 5):</strong></i> 4<br>\n",
       "          <i><strong>Address:</strong></i> \n",
       "Via San Paolo 13, Milan City Centre, 20121 Milan, Italy\n",
       "<br>\n",
       "      </div>\n",
       "  </div>\n",
       "  "
      ],
      "text/plain": [
       "<IPython.core.display.HTML object>"
      ]
     },
     "metadata": {},
     "output_type": "display_data"
    },
    {
     "data": {
      "text/html": [
       "\n",
       "  <div style=\"display: flex; align-items: center; margin-bottom: 20px;\">\n",
       "          <img src=\"https://cf.bstatic.com/xdata/images/hotel/max1024x768/323606941.jpg?k=e734dc82c959e2c84c995d327a2fede4109424aa62c13d4081eb904130f6c165&o=&hp=1\" alt=\"Rosa Grand Milano - Starhotels Collezione\" style=\"width: 200px; height: auto; margin-right: 20px;\">\n",
       "      <div>\n",
       "          <h4 style=\"font-size:18px\"> <strong>Rosa Grand Milano - Starhotels Collezione</strong></h4><br>\n",
       "          <i><strong>Price (in €):</strong></i> 9399.0<br>\n",
       "          <i><strong>Distance from center (in KM):</strong></i> 0.4<br>\n",
       "          <i><strong>Review Score:</strong></i> 8.2<br>\n",
       "          <i><strong>Rating (out of 5):</strong></i> 4<br>\n",
       "          <i><strong>Address:</strong></i> \n",
       "Piazza Fontana 3, Milan City Centre, 20122 Milan, Italy\n",
       "<br>\n",
       "      </div>\n",
       "  </div>\n",
       "  "
      ],
      "text/plain": [
       "<IPython.core.display.HTML object>"
      ]
     },
     "metadata": {},
     "output_type": "display_data"
    },
    {
     "data": {
      "text/html": [
       "\n",
       "  <div style=\"display: flex; align-items: center; margin-bottom: 20px;\">\n",
       "          <img src=\"https://cf.bstatic.com/xdata/images/hotel/max1024x768/488162637.jpg?k=e7a0d18853869fd6af048327689e17ae0eb36341b95608d34a93313e0402fccf&o=&hp=1\" alt=\"Hotel The Square Milano Duomo - Preferred Hotels & Resorts\" style=\"width: 200px; height: auto; margin-right: 20px;\">\n",
       "      <div>\n",
       "          <h4 style=\"font-size:18px\"> <strong>Hotel The Square Milano Duomo - Preferred Hotels & Resorts</strong></h4><br>\n",
       "          <i><strong>Price (in €):</strong></i> 9039.0<br>\n",
       "          <i><strong>Distance from center (in KM):</strong></i> 0.4<br>\n",
       "          <i><strong>Review Score:</strong></i> 8.6<br>\n",
       "          <i><strong>Rating (out of 5):</strong></i> 4<br>\n",
       "          <i><strong>Address:</strong></i> \n",
       "Via Albricci 2-4, Milan City Centre, 20122 Milan, Italy\n",
       "<br>\n",
       "      </div>\n",
       "  </div>\n",
       "  "
      ],
      "text/plain": [
       "<IPython.core.display.HTML object>"
      ]
     },
     "metadata": {},
     "output_type": "display_data"
    },
    {
     "data": {
      "text/html": [
       "\n",
       "  <div style=\"display: flex; align-items: center; margin-bottom: 20px;\">\n",
       "          <img src=\"https://cf.bstatic.com/xdata/images/hotel/max1024x768/579589617.jpg?k=c3b6d33e1204f8780b390e57eda78f196d29484ee7dfb0a82f5a377ca2916ca7&o=&hp=1\" alt=\"Milan Retreats Duomo Suites\" style=\"width: 200px; height: auto; margin-right: 20px;\">\n",
       "      <div>\n",
       "          <h4 style=\"font-size:18px\"> <strong>Milan Retreats Duomo Suites</strong></h4><br>\n",
       "          <i><strong>Price (in €):</strong></i> 4467.0<br>\n",
       "          <i><strong>Distance from center (in KM):</strong></i> 0.45<br>\n",
       "          <i><strong>Review Score:</strong></i> 9.2<br>\n",
       "          <i><strong>Rating (out of 5):</strong></i> 4<br>\n",
       "          <i><strong>Address:</strong></i> \n",
       "Different Locations in Milan, Milan City Centre, 20122 Milan, Italy\n",
       "<br>\n",
       "      </div>\n",
       "  </div>\n",
       "  "
      ],
      "text/plain": [
       "<IPython.core.display.HTML object>"
      ]
     },
     "metadata": {},
     "output_type": "display_data"
    },
    {
     "data": {
      "text/html": [
       "\n",
       "  <div style=\"display: flex; align-items: center; margin-bottom: 20px;\">\n",
       "          <img src=\"https://cf.bstatic.com/xdata/images/hotel/max1024x768/516114411.jpg?k=3a97a6482c987a6c75a713db6c1fd6129d10cd436054d6f55c6b573dc3122bdc&o=&hp=1\" alt=\"Heart Milan Apartments Duomo District\" style=\"width: 200px; height: auto; margin-right: 20px;\">\n",
       "      <div>\n",
       "          <h4 style=\"font-size:18px\"> <strong>Heart Milan Apartments Duomo District</strong></h4><br>\n",
       "          <i><strong>Price (in €):</strong></i> 4679.0<br>\n",
       "          <i><strong>Distance from center (in KM):</strong></i> 0.5<br>\n",
       "          <i><strong>Review Score:</strong></i> 9.2<br>\n",
       "          <i><strong>Rating (out of 5):</strong></i> 4<br>\n",
       "          <i><strong>Address:</strong></i> \n",
       "Different Locations in Milan City Centre, Milan City Centre, 20122 Milan, Italy\n",
       "<br>\n",
       "      </div>\n",
       "  </div>\n",
       "  "
      ],
      "text/plain": [
       "<IPython.core.display.HTML object>"
      ]
     },
     "metadata": {},
     "output_type": "display_data"
    },
    {
     "name": "stdout",
     "output_type": "stream",
     "text": [
      "\n",
      "\n",
      "Enter full name of the hotel to see more details: Heart Milan Apartments Duomo District\n",
      "\n",
      "\n",
      " +++++++++++++++++++++++ More detailed info +++++++++++++++++++\n"
     ]
    },
    {
     "data": {
      "text/html": [
       "\n",
       "  <div style=\"display: flex; align-items: center; margin-bottom: 20px;\">\n",
       "          <img src=\"https://cf.bstatic.com/xdata/images/hotel/max1024x768/516114411.jpg?k=3a97a6482c987a6c75a713db6c1fd6129d10cd436054d6f55c6b573dc3122bdc&o=&hp=1\" alt=\"Heart Milan Apartments Duomo District\" style=\"width: 200px; height: auto; margin-right: 20px;\">\n",
       "      <div>\n",
       "          <h4 style=\"font-size:18px\"> <strong>Heart Milan Apartments Duomo District</strong></h4><br>\n",
       "          <i><strong>Price (in €):</strong></i> 4679.0<br>\n",
       "          <i><strong>Distance from center (in KM):</strong></i> 0.5<br>\n",
       "          <i><strong>Review Score:</strong></i> 9.2<br>\n",
       "          <i><strong>Rating (out of 5):</strong></i> 4<br>\n",
       "          <i><strong>Address:</strong></i> \n",
       "Different Locations in Milan City Centre, Milan City Centre, 20122 Milan, Italy\n",
       "<br>\n",
       "      </div>\n",
       "  </div>\n",
       "  "
      ],
      "text/plain": [
       "<IPython.core.display.HTML object>"
      ]
     },
     "metadata": {},
     "output_type": "display_data"
    },
    {
     "name": "stdout",
     "output_type": "stream",
     "text": [
      "Here some more photos of the hotel :)\n"
     ]
    },
    {
     "data": {
      "text/html": [
       "\n",
       "    <div style=\"display: flex; align-items: center; margin-bottom: 20px;\">\n",
       "    \n",
       "        <div style=\"margin-right: 20px;\">\n",
       "            <img src=\"https://cf.bstatic.com/xdata/images/hotel/max500/496870133.jpg?k=8de156b8016244179116ea054aafd35495ee0f35c05a475c041ae8054c61d3da&o=&hp=1\" alt=\"Heart Milan Apartments Duomo District\" style=\"width: 200px; height: auto;\">\n",
       "        </div>\n",
       "        \n",
       "        <div style=\"margin-right: 20px;\">\n",
       "            <img src=\"https://cf.bstatic.com/xdata/images/hotel/max500/491213045.jpg?k=a020fea96e49fb1af581fd83c33aafea1688395e278fe4a90fea67a908cf740e&o=&hp=1\" alt=\"Heart Milan Apartments Duomo District\" style=\"width: 200px; height: auto;\">\n",
       "        </div>\n",
       "        \n",
       "        <div style=\"margin-right: 20px;\">\n",
       "            <img src=\"https://cf.bstatic.com/xdata/images/hotel/max300/496880185.jpg?k=86be655bd4a5bcebbf70002f3f80f6fb3f098e088868b6f2bdc170712b5ce95a&o=&hp=1\" alt=\"Heart Milan Apartments Duomo District\" style=\"width: 200px; height: auto;\">\n",
       "        </div>\n",
       "        \n",
       "    </div>\n",
       "    \n",
       "    <div>\n",
       "        <p style=\"font-size: 16px; color: #555;\">Situated in Milan, this air-conditioned apartment is 400 metres from Duomo Milan. The apartment is 600 metres from La Scala. Free WiFi is featured throughout the property.\n",
       "\n",
       "Featuring a modern style, the apartments have a private bathroom with bidet and toiletries, a flat-screen TV, air conditioning and, in some cases, a balcony. Bed linen and towels are included.\n",
       "\n",
       "Milan Fashion District is 900 metres from Heart Apartments Duomo Stefano, while Villa Necchi Campiglio is 900 metres from the property. The nearest airport is Milan Linate Airport, 7 km from Heart Apartments Duomo Stefano.</p>\n",
       "    </div>\n",
       "    "
      ],
      "text/plain": [
       "<IPython.core.display.HTML object>"
      ]
     },
     "metadata": {},
     "output_type": "display_data"
    }
   ],
   "source": [
    "from IPython.display import Image, display, HTML\n",
    "\n",
    "price_min = float(input(\"Enter lowest price value: \"))\n",
    "price_max = float(input(\"Enter highest price value: \"))\n",
    "distance_min = float(input(\"Enter minimum distance from center value (in KM): \"))\n",
    "distance_max = float(input(\"Enter maximum distance from center value (in KM): \"))\n",
    "review_min = float(input(\"Enter minimum review score value (1 - 10): \"))\n",
    "review_max = float(input(\"Enter maximum review score value (1 - 10): \"))\n",
    "rating_min = int(input(\"Enter the minimum hotel rating (out of 5) value: \"))\n",
    "\n",
    "\n",
    "\n",
    "# Filtering the DataFrame based on user input\n",
    "new_df = df[(df['price (in €)'] >= price_min) & (df['price (in €)'] <= price_max) &\n",
    "                 (df['distance from center (in KM)'] >= distance_min) & \n",
    "                 (df['distance from center (in KM)'] <= distance_max) &\n",
    "                 (df['review score'] >= review_min) & (df['review score'] <= review_max) &\n",
    "                 (df['rating (out of 5)'].astype('int') >= rating_min)\n",
    "           ]\n",
    "\n",
    "def sort_by(input_value):\n",
    "    if input_value == 1:\n",
    "        return \"price (in €)\"\n",
    "    if input_value == 2:\n",
    "        return \"distance from center (in KM)\"\n",
    "    if input_value == 3:\n",
    "        return \"review score\"\n",
    "    if input_value == 4:\n",
    "        return \"rating (out of 5)\"\n",
    "    else:\n",
    "        return \"price (in €)\"\n",
    "        \n",
    "input_value = float(input(\"How do you want it to be sorted by?: \\n Enter 1 to sort it by price \\n Enter 2 to sort it by distance from center \\n Enter 3 to sort it by review score \\n Enter 4 to sort it by rating \\n\"))\n",
    "\n",
    "# Sorting by price and distance in a ascending order but\n",
    "# sort them in descending order if sorted by review score \n",
    "asc = True\n",
    "if input_value == 3 or input_value == 4:\n",
    "    asc = False\n",
    "sorted_df = new_df.sort_values(by=sort_by(input_value), ascending=asc)\n",
    "\n",
    "# Output the first sorted 10 hotels \n",
    "result = sorted_df.head(10)\n",
    "\n",
    "print(f\"\\n======================= RESULTS sorted by {sort_by(input_value)}=========================\\n\")\n",
    "\n",
    "\n",
    "# Checking if the search parameter doesn't hold true\n",
    "def display_hotel_details(row):\n",
    "  image = None\n",
    "  if row['images']:\n",
    "        image = row['images'][0]\n",
    "  html = f\"\"\"\n",
    "  <div style=\"display: flex; align-items: center; margin-bottom: 20px;\">\n",
    "          <img src=\"{image}\" alt=\"{row['name']}\" style=\"width: 200px; height: auto; margin-right: 20px;\">\n",
    "      <div>\n",
    "          <h4 style=\"font-size:18px\"> <strong>{row['name']}</strong></h4><br>\n",
    "          <i><strong>Price (in €):</strong></i> {row['price (in €)']}<br>\n",
    "          <i><strong>Distance from center (in KM):</strong></i> {row['distance from center (in KM)']}<br>\n",
    "          <i><strong>Review Score:</strong></i> {row['review score']}<br>\n",
    "          <i><strong>Rating (out of 5):</strong></i> {row['rating (out of 5)']}<br>\n",
    "          <i><strong>Address:</strong></i> {row['address']}<br>\n",
    "      </div>\n",
    "  </div>\n",
    "  \"\"\"\n",
    "  display(HTML(html))\n",
    "\n",
    "    \n",
    "# Display three more pictures of the hotel when a user wants to see details of a particular hotel    \n",
    "def display_more_hotel_pictures(row):\n",
    "    print(\"Here some more photos of the hotel :)\")\n",
    "    html = \"\"\"\n",
    "    <div style=\"display: flex; align-items: center; margin-bottom: 20px;\">\n",
    "    \"\"\"\n",
    "    for i in range(1, len(row['images'])):\n",
    "        html += f\"\"\"\n",
    "        <div style=\"margin-right: 20px;\">\n",
    "            <img src=\"{row['images'][i]}\" alt=\"{row['name']}\" style=\"width: 200px; height: auto;\">\n",
    "        </div>\n",
    "        \"\"\"\n",
    "    html += \"\"\"\n",
    "    </div>\n",
    "    \"\"\"\n",
    "    \n",
    "    html += f\"\"\"\n",
    "    <div>\n",
    "        <p style=\"font-size: 16px; color: #555;\">{row['summary']}</p>\n",
    "    </div>\n",
    "    \"\"\"\n",
    "    \n",
    "    display(HTML(html))\n",
    "\n",
    "# Check result is not empty        \n",
    "if result.empty:\n",
    "  print(\"Nothing to display :)\")\n",
    "else:\n",
    "  # Call a function to display the hotel details of  \n",
    "  for index, row in result.iterrows():\n",
    "      display_hotel_details(row)\n",
    "  print(\"\\n\")\n",
    "  hotel_name = input(\"Enter full name of the hotel to see more details: \")\n",
    "  hotel = df[df['name']==hotel_name]\n",
    "    \n",
    "  # Change the dataframe to series  \n",
    "  if not hotel.empty:\n",
    "    hotel = hotel.iloc[0,:]\n",
    "    print(\"\\n\\n +++++++++++++++++++++++ More detailed info +++++++++++++++++++\")\n",
    "    display_hotel_details(hotel)\n",
    "    display_more_hotel_pictures(hotel)\n",
    "  else: \n",
    "    print(\"\\n Try another name or please write the full name of the hotel\")\n",
    "    "
   ]
  },
  {
   "cell_type": "code",
   "execution_count": null,
   "metadata": {},
   "outputs": [],
   "source": []
  }
 ],
 "metadata": {
  "colab": {
   "provenance": []
  },
  "kernelspec": {
   "display_name": "Python 3 (ipykernel)",
   "language": "python",
   "name": "python3"
  },
  "language_info": {
   "codemirror_mode": {
    "name": "ipython",
    "version": 3
   },
   "file_extension": ".py",
   "mimetype": "text/x-python",
   "name": "python",
   "nbconvert_exporter": "python",
   "pygments_lexer": "ipython3",
   "version": "3.9.13"
  }
 },
 "nbformat": 4,
 "nbformat_minor": 1
}
