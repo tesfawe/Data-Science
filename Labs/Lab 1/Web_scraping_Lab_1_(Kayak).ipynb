{
 "cells": [
  {
   "cell_type": "markdown",
   "metadata": {
    "id": "LUpbVINNV6ED"
   },
   "source": [
    "### Installation"
   ]
  },
  {
   "cell_type": "code",
   "execution_count": 1,
   "metadata": {
    "colab": {
     "base_uri": "https://localhost:8080/"
    },
    "id": "6ZVPcO3CsDXW",
    "outputId": "978ebf79-7141-46f9-e8bd-c02409039968",
    "scrolled": false
   },
   "outputs": [
    {
     "name": "stdout",
     "output_type": "stream",
     "text": [
      "Requirement already satisfied: beautifulsoup4 in /home/tesphi/anaconda3/lib/python3.9/site-packages (4.10.0)\n",
      "Requirement already satisfied: soupsieve>1.2 in /home/tesphi/anaconda3/lib/python3.9/site-packages (from beautifulsoup4) (2.4)\n",
      "\n",
      "\u001b[1m[\u001b[0m\u001b[34;49mnotice\u001b[0m\u001b[1;39;49m]\u001b[0m\u001b[39;49m A new release of pip is available: \u001b[0m\u001b[31;49m23.3.1\u001b[0m\u001b[39;49m -> \u001b[0m\u001b[32;49m24.2\u001b[0m\n",
      "\u001b[1m[\u001b[0m\u001b[34;49mnotice\u001b[0m\u001b[1;39;49m]\u001b[0m\u001b[39;49m To update, run: \u001b[0m\u001b[32;49mpip install --upgrade pip\u001b[0m\n",
      "Requirement already satisfied: requests in /home/tesphi/anaconda3/lib/python3.9/site-packages (2.31.0)\n",
      "Requirement already satisfied: charset-normalizer<4,>=2 in /home/tesphi/anaconda3/lib/python3.9/site-packages (from requests) (2.0.4)\n",
      "Requirement already satisfied: idna<4,>=2.5 in /home/tesphi/anaconda3/lib/python3.9/site-packages (from requests) (3.4)\n",
      "Requirement already satisfied: urllib3<3,>=1.21.1 in /home/tesphi/anaconda3/lib/python3.9/site-packages (from requests) (2.0.5)\n",
      "Requirement already satisfied: certifi>=2017.4.17 in /home/tesphi/anaconda3/lib/python3.9/site-packages (from requests) (2023.7.22)\n",
      "\n",
      "\u001b[1m[\u001b[0m\u001b[34;49mnotice\u001b[0m\u001b[1;39;49m]\u001b[0m\u001b[39;49m A new release of pip is available: \u001b[0m\u001b[31;49m23.3.1\u001b[0m\u001b[39;49m -> \u001b[0m\u001b[32;49m24.2\u001b[0m\n",
      "\u001b[1m[\u001b[0m\u001b[34;49mnotice\u001b[0m\u001b[1;39;49m]\u001b[0m\u001b[39;49m To update, run: \u001b[0m\u001b[32;49mpip install --upgrade pip\u001b[0m\n"
     ]
    }
   ],
   "source": [
    "!pip install beautifulsoup4\n",
    "!pip install requests"
   ]
  },
  {
   "cell_type": "code",
   "execution_count": 2,
   "metadata": {
    "colab": {
     "base_uri": "https://localhost:8080/"
    },
    "id": "BJUrJS0Hgg99",
    "outputId": "74cdf62e-30ed-4986-91a3-195c2221e406",
    "scrolled": true
   },
   "outputs": [],
   "source": [
    "import requests\n",
    "from bs4 import BeautifulSoup as bs\n",
    "import time\n"
   ]
  },
  {
   "cell_type": "code",
   "execution_count": 3,
   "metadata": {
    "colab": {
     "base_uri": "https://localhost:8080/"
    },
    "id": "-Q9hCAoxj0ga",
    "outputId": "25c64a98-7e08-410d-9639-5084eb3f9f8c"
   },
   "outputs": [
    {
     "name": "stdout",
     "output_type": "stream",
     "text": [
      "Success\n"
     ]
    }
   ],
   "source": [
    "headers = {\n",
    "    'User-Agent': 'Mozilla/5.0 (Windows NT 10.0; Win64; x64) AppleWebKit/537.36 (KHTML, like Gecko) Chrome/112.0.0.0 Safari/537.36'\n",
    "}\n",
    "url = \"https://www.kayak.com/hotels/Milan,Milano,Italy-p43247/2024-12-29/2025-01-02/1adults;map?sort=rank_a\"\n",
    "\n",
    "r = requests.get(url, headers=headers)\n",
    "\n",
    "if r.status_code == 403:\n",
    "    print(\"Request forbidden!\")\n",
    "\n",
    "elif r.status_code == 200:\n",
    "    print('Success')\n",
    "else:\n",
    "    print(r.status_code)\n",
    "\n"
   ]
  },
  {
   "cell_type": "code",
   "execution_count": 46,
   "metadata": {},
   "outputs": [],
   "source": [
    "from bs4 import BeautifulSoup as bs\n",
    "from selenium import webdriver\n",
    "from selenium.webdriver.common.by import By\n",
    "from selenium.webdriver.chrome.service import Service\n",
    "from selenium.webdriver.chrome.options import Options\n",
    "from selenium.webdriver.common.action_chains import ActionChains\n",
    "from selenium.webdriver.common.keys import Keys\n",
    "from selenium.webdriver.support.ui import WebDriverWait\n",
    "from selenium.webdriver.support import expected_conditions as EC\n",
    "import time\n",
    "\n",
    "# Configure Selenium options\n",
    "chrome_options = Options()\n",
    "chrome_options.add_argument(\"--headless\")  \n",
    "chrome_options.add_argument(\"--no-sandbox\")  \n",
    "chrome_options.add_argument(\"--disable-dev-shm-usage\")  \n",
    "\n",
    "# Path to my Chrome driver\n",
    "service = Service(\"/snap/bin/chromium.chromedriver\")\n",
    "\n",
    "hotel_url_list = []\n",
    "hotel_name_list = []\n",
    "hotel_image_list = []\n",
    "hotel_price_list = []\n",
    "hotel_rating_list =[]\n",
    "hotel_review_score_list = []\n",
    "\n",
    "url = \"https://www.kayak.com/hotels/Milan,Milano,Italy-p43247/2024-12-29/2025-01-02/1adults;map?sort=rank_a\"\n",
    "\n",
    "driver = webdriver.Chrome(service=service)\n",
    "driver.get(url) \n",
    "\n",
    "root_url = \"https://www.kayak.com\"\n",
    "\n",
    "# Loop for 2 for pages\n",
    "\n",
    "for i in range(2):  \n",
    "\n",
    "        soup = bs(driver.page_source, 'html.parser')\n",
    "\n",
    "        # Finding the sections that contain the hotel data\n",
    "        hotels = soup.find_all('div', class_=\"S0Ps S0Ps-mod-flexible-height\")\n",
    "        \n",
    "        time.sleep(15)\n",
    "\n",
    "        for hotel in hotels:\n",
    "            \n",
    "            hotel_name = hotel.find('a', class_=\"FLpo-big-name\").text\n",
    "\n",
    "            review_score = hotel.find('div', class_=\"wdjx wdjx-positive wdjx-mod-rating-condensed\")\n",
    "            review_score = float(review_score.text) if review_score else None\n",
    "            \n",
    "            price = hotel.find('div', class_=\"c1XBO\").text\n",
    "            price = float(price.replace('€', '').replace(',', '').replace('$','').strip())\n",
    "            \n",
    "            image = hotel.find('img', class_=\"f800-image\")[\"src\"]\n",
    "\n",
    "            rating = hotel.find('span', class_=\"Ius0\")\n",
    "            rating = int(rating.text[0]) if rating else None\n",
    "\n",
    "            hotel_url = root_url + hotel.find('a', class_=\"FLpo-big-name\")['href']\n",
    "\n",
    "            hotel_url_list.append(hotel_url)\n",
    "            hotel_name_list.append(hotel_name)\n",
    "            hotel_image_list.append(image)\n",
    "            hotel_price_list.append(price)\n",
    "            hotel_rating_list.append(rating)\n",
    "            hotel_review_score_list.append(review_score)\n",
    "\n",
    "        # Finding the \"Next page\" button \n",
    "        buttons = driver.find_elements(By.CSS_SELECTOR, \n",
    "                      \"button.Iqt3-mod-variant-none.Iqt3-mod-theme-light.Iqt3-mod-shape-rounded-small.Iqt3-mod-shape-mod-default.Iqt3-mod-spacing-default\")\n",
    "        next_button = buttons[-1]\n",
    "\n",
    "        # Scrolling the button into view\n",
    "        driver.execute_script(\"arguments[0].scrollIntoView(true);\", next_button)\n",
    "\n",
    "        # Clicking the button via JavaScript\n",
    "        driver.execute_script(\"arguments[0].click();\", next_button)\n",
    "        \n",
    "        # Allowing the next page to load\n",
    "        time.sleep(15)  \n",
    "\n",
    "driver.quit()\n"
   ]
  },
  {
   "cell_type": "code",
   "execution_count": 48,
   "metadata": {},
   "outputs": [],
   "source": [
    "from selenium import webdriver\n",
    "from selenium.webdriver.chrome.service import Service\n",
    "from selenium.webdriver.chrome.options import Options\n",
    "from selenium.webdriver.common.by import By\n",
    "from selenium.webdriver.support.ui import WebDriverWait\n",
    "from selenium.webdriver.support import expected_conditions as EC\n",
    "from bs4 import BeautifulSoup as bs\n",
    "\n",
    "# Set up headless Chrome options\n",
    "chrome_options = Options()\n",
    "chrome_options.add_argument(\"--headless\")  \n",
    "chrome_options.add_argument('--no-sandbox')\n",
    "chrome_options.add_argument('--disable-dev-shm-usage')\n",
    "chrome_options.add_argument('--disable-gpu')\n",
    "\n",
    "# Path to my ChromeDriver\n",
    "chrome_service = Service('/snap/bin/chromium.chromedriver')  \n",
    "\n",
    "hotel_image_list = []\n",
    "hotel_address_list = []\n",
    "hotel_summary_list = []\n",
    "\n",
    "# List of hotel URLs to scrape\n",
    "hotel_urls = hotel_url_list\n",
    "\n",
    "# Loop over each hotel URL\n",
    "for index, hotel_url in enumerate(hotel_urls, start=1):\n",
    "    \n",
    "    # Starting a new WebDriver instance for each URL to avoid session issues\n",
    "    driver = webdriver.Chrome(service=chrome_service, options=chrome_options)\n",
    "\n",
    "    # Fetching the webpage for the current URL\n",
    "    driver.get(hotel_url)\n",
    "\n",
    "    # Getting the page source after JavaScript loads\n",
    "    page_source = driver.page_source\n",
    "\n",
    "    # Parsing the content with BeautifulSoup\n",
    "    hotel_soup = bs(page_source, 'html.parser')\n",
    "\n",
    "    # Finding the section that contains the image data\n",
    "    hotel_page = hotel_soup.find('section', {\"id\": \"overviewSection\"})\n",
    "    h_images = []\n",
    "    summary = None\n",
    "    address = None\n",
    "    if hotel_page:  \n",
    "\n",
    "        address = hotel_soup.find('div', class_=\"c3xth-address\").text\n",
    "\n",
    "        summary = hotel_soup.find('div', class_=\"b40a-desc-text\")\n",
    "        if summary:\n",
    "            summary = summary.text\n",
    "\n",
    "        image_container = hotel_page.find('div', {\"class\": \"c1E0k-photo-container\"})\n",
    "\n",
    "        iBaseUrl = \"https://content.r9cdn.net\"\n",
    "        if image_container:\n",
    "            \n",
    "            # Finding the image tag within the container\n",
    "            img_tag = image_container.find_all('img', {\"class\": \"f800-image\"})\n",
    "            h_images = []\n",
    "            for i in range(1, len(img_tag)):\n",
    "                h_images.append(iBaseUrl + img_tag[i]['src'])\n",
    "                if i==3: \n",
    "                    break\n",
    "                    \n",
    "        hotel_image_list.append(h_images)\n",
    "        hotel_address_list.append(address)\n",
    "        hotel_summary_list.append(summary)\n",
    "        \n",
    "        driver.quit()\n",
    "\n"
   ]
  },
  {
   "cell_type": "code",
   "execution_count": 49,
   "metadata": {},
   "outputs": [
    {
     "name": "stdout",
     "output_type": "stream",
     "text": [
      "60\n"
     ]
    }
   ],
   "source": [
    "print(len(hotel_address_list))"
   ]
  },
  {
   "cell_type": "code",
   "execution_count": 50,
   "metadata": {},
   "outputs": [
    {
     "data": {
      "text/html": [
       "<div>\n",
       "<style scoped>\n",
       "    .dataframe tbody tr th:only-of-type {\n",
       "        vertical-align: middle;\n",
       "    }\n",
       "\n",
       "    .dataframe tbody tr th {\n",
       "        vertical-align: top;\n",
       "    }\n",
       "\n",
       "    .dataframe thead th {\n",
       "        text-align: right;\n",
       "    }\n",
       "</style>\n",
       "<table border=\"1\" class=\"dataframe\">\n",
       "  <thead>\n",
       "    <tr style=\"text-align: right;\">\n",
       "      <th></th>\n",
       "      <th>name</th>\n",
       "      <th>price (in $)</th>\n",
       "      <th>rating (out of 5)</th>\n",
       "      <th>review score</th>\n",
       "      <th>address</th>\n",
       "      <th>images</th>\n",
       "      <th>summary</th>\n",
       "    </tr>\n",
       "  </thead>\n",
       "  <tbody>\n",
       "    <tr>\n",
       "      <th>0</th>\n",
       "      <td>Hotel Viu Milan</td>\n",
       "      <td>1336.0</td>\n",
       "      <td>5</td>\n",
       "      <td>8.9</td>\n",
       "      <td>Via Fioravanti, 6, 20154 Milan, Milano</td>\n",
       "      <td>[https://content.r9cdn.net/rimg/himg/be/d1/81/...</td>\n",
       "      <td>Ideally located in the prime touristic area of...</td>\n",
       "    </tr>\n",
       "    <tr>\n",
       "      <th>1</th>\n",
       "      <td>Nyx Hotel Milan By Leonardo Hotels</td>\n",
       "      <td>962.0</td>\n",
       "      <td>4</td>\n",
       "      <td>8.5</td>\n",
       "      <td>Piazza IV Novembre 3, 20124 Milan, Milano</td>\n",
       "      <td>[https://content.r9cdn.net/rimg/himg/39/1e/e0/...</td>\n",
       "      <td>Featuring an inner garden, NYX Hotel Milan by ...</td>\n",
       "    </tr>\n",
       "    <tr>\n",
       "      <th>2</th>\n",
       "      <td>Enterprise Hotel Design &amp; Boutique</td>\n",
       "      <td>801.0</td>\n",
       "      <td>4</td>\n",
       "      <td>8.6</td>\n",
       "      <td>Corso Sempione 91, 20149 Milan, Milano</td>\n",
       "      <td>[https://content.r9cdn.net/rimg/himg/95/a5/64/...</td>\n",
       "      <td>Upscale spa hotel, a quick walk to Fiera Milan...</td>\n",
       "    </tr>\n",
       "    <tr>\n",
       "      <th>3</th>\n",
       "      <td>Hotel Sanpi Milano</td>\n",
       "      <td>766.0</td>\n",
       "      <td>4</td>\n",
       "      <td>8.2</td>\n",
       "      <td>Via Lazzaro Palazzi, 18, 20124 Milan, Milano</td>\n",
       "      <td>[https://content.r9cdn.net/rimg/himg/57/2a/9d/...</td>\n",
       "      <td>Upscale hotel, a short walk to Corso Buenos Ai...</td>\n",
       "    </tr>\n",
       "    <tr>\n",
       "      <th>4</th>\n",
       "      <td>The Westin Palace, Milan</td>\n",
       "      <td>1638.0</td>\n",
       "      <td>5</td>\n",
       "      <td>8.0</td>\n",
       "      <td>Piazza della Repubblica 20, 20124 Milan, Milano</td>\n",
       "      <td>[https://content.r9cdn.net/rimg/himg/5a/e0/6f/...</td>\n",
       "      <td>Step over the threshold of The Westin Palace t...</td>\n",
       "    </tr>\n",
       "  </tbody>\n",
       "</table>\n",
       "</div>"
      ],
      "text/plain": [
       "                                 name  price (in $)  rating (out of 5)  \\\n",
       "0                     Hotel Viu Milan        1336.0                  5   \n",
       "1  Nyx Hotel Milan By Leonardo Hotels         962.0                  4   \n",
       "2  Enterprise Hotel Design & Boutique         801.0                  4   \n",
       "3                  Hotel Sanpi Milano         766.0                  4   \n",
       "4            The Westin Palace, Milan        1638.0                  5   \n",
       "\n",
       "   review score                                          address  \\\n",
       "0           8.9           Via Fioravanti, 6, 20154 Milan, Milano   \n",
       "1           8.5        Piazza IV Novembre 3, 20124 Milan, Milano   \n",
       "2           8.6           Corso Sempione 91, 20149 Milan, Milano   \n",
       "3           8.2     Via Lazzaro Palazzi, 18, 20124 Milan, Milano   \n",
       "4           8.0  Piazza della Repubblica 20, 20124 Milan, Milano   \n",
       "\n",
       "                                              images  \\\n",
       "0  [https://content.r9cdn.net/rimg/himg/be/d1/81/...   \n",
       "1  [https://content.r9cdn.net/rimg/himg/39/1e/e0/...   \n",
       "2  [https://content.r9cdn.net/rimg/himg/95/a5/64/...   \n",
       "3  [https://content.r9cdn.net/rimg/himg/57/2a/9d/...   \n",
       "4  [https://content.r9cdn.net/rimg/himg/5a/e0/6f/...   \n",
       "\n",
       "                                             summary  \n",
       "0  Ideally located in the prime touristic area of...  \n",
       "1  Featuring an inner garden, NYX Hotel Milan by ...  \n",
       "2  Upscale spa hotel, a quick walk to Fiera Milan...  \n",
       "3  Upscale hotel, a short walk to Corso Buenos Ai...  \n",
       "4  Step over the threshold of The Westin Palace t...  "
      ]
     },
     "execution_count": 50,
     "metadata": {},
     "output_type": "execute_result"
    }
   ],
   "source": [
    "# Importing numpy to use the fillna and isna methods\n",
    "import numpy as np\n",
    "import pandas as pd\n",
    "df = pd.DataFrame({'name': hotel_name_list, 'price (in $)': hotel_price_list, 'rating (out of 5)': hotel_rating_list,\n",
    "                   'review score': hotel_review_score_list, 'address': hotel_address_list, \n",
    "                   'images':hotel_image_list, 'summary': hotel_summary_list})\n",
    "\n",
    "# Making copy of the original dataframe in local device for backup\n",
    "# df.to_csv(\"kayakdotcom_with_missing_values.csv\")\n",
    "df[\"rating (out of 5)\"] = df[\"rating (out of 5)\"].fillna(value=np.nan)\n",
    "df[\"rating (out of 5)\"] = df[\"rating (out of 5)\"].fillna(df[\"rating (out of 5)\"].median())\n",
    "df[\"rating (out of 5)\"] = df[\"rating (out of 5)\"].astype(int)\n",
    "\n",
    "# Saving the datafram after replacing the missing values \n",
    "# df.to_csv(\"Kayakdotcom_without_missing_values.csv\")\n",
    "df.head()"
   ]
  },
  {
   "cell_type": "code",
   "execution_count": 51,
   "metadata": {},
   "outputs": [
    {
     "data": {
      "image/png": "[encoded data removed]",
      "text/plain": [
       "<Figure size 800x600 with 1 Axes>"
      ]
     },
     "metadata": {},
     "output_type": "display_data"
    }
   ],
   "source": [
    "%matplotlib inline\n",
    "import matplotlib.pyplot  as plt\n",
    "import seaborn as sns\n",
    "\n",
    "sns.set_palette(\"Set1\")\n",
    "\n",
    "plt.figure(figsize=(8, 6))\n",
    "sns.boxplot(df['price (in $)'])\n",
    "\n",
    "plt.show()"
   ]
  },
  {
   "cell_type": "code",
   "execution_count": 52,
   "metadata": {},
   "outputs": [
    {
     "data": {
      "image/png": "[encoded data removed]",
      "text/plain": [
       "<Figure size 800x600 with 1 Axes>"
      ]
     },
     "metadata": {},
     "output_type": "display_data"
    }
   ],
   "source": [
    "%matplotlib inline\n",
    "import matplotlib.pyplot  as plt\n",
    "import seaborn as sns\n",
    "\n",
    "sns.set_palette(\"Set1\")\n",
    "plt.figure(figsize=(8, 6))\n",
    "rating_counts = df['rating (out of 5)'].value_counts()\n",
    "sns.barplot(x=rating_counts.index, y=rating_counts.values)\n",
    "plt.title('Rating Distribution')\n",
    "plt.xlabel('Rating Score')\n",
    "plt.ylabel('Frequency')\n",
    "plt.show()"
   ]
  },
  {
   "cell_type": "code",
   "execution_count": 53,
   "metadata": {},
   "outputs": [
    {
     "data": {
      "image/png": "[encoded data removed]",
      "text/plain": [
       "<Figure size 800x600 with 1 Axes>"
      ]
     },
     "metadata": {},
     "output_type": "display_data"
    }
   ],
   "source": [
    "%matplotlib inline\n",
    "import matplotlib.pyplot  as plt\n",
    "import seaborn as sns\n",
    "\n",
    "sns.set_palette(\"Set1\")\n",
    "\n",
    "plt.figure(figsize=(8, 6))\n",
    "sns.boxplot(df['review score'])\n",
    "\n",
    "plt.show()"
   ]
  },
  {
   "cell_type": "code",
   "execution_count": 54,
   "metadata": {},
   "outputs": [
    {
     "name": "stdout",
     "output_type": "stream",
     "text": [
      "Enter lowest price value: 0\n",
      "Enter highest price value: 10000\n",
      "Enter minimum review score value (1 - 10): 5\n",
      "Enter maximum review score value (1 - 10): 10\n",
      "Enter the minimum hotel rating (out of 5) value: 4\n",
      "How do you want it to be sorted by?: \n",
      " Enter 1 to sort it by price  \n",
      " Enter 2 to sort it by review score \n",
      " Enter 3 to sort it by rating \n",
      "2\n",
      "\n",
      "======================= RESULTS sorted by review score=========================\n",
      "\n"
     ]
    },
    {
     "data": {
      "text/html": [
       "\n",
       "  <div style=\"display: flex; align-items: center; margin-bottom: 20px;\">\n",
       "          <img src=\"https://content.r9cdn.net/rimg/himg/a7/8c/35/expedia_group-6064187-9facac-459559.jpg?width=510&height=510&crop=true\" alt=\"Axyhotels Innstyle Milano\" style=\"width: 200px; height: auto; margin-right: 20px;\">\n",
       "      <div>\n",
       "          <h4 style=\"font-size:18px\"> <strong>Axyhotels Innstyle Milano</strong></h4><br>\n",
       "          <i><strong>Price (in $):</strong></i> 1017.0<br>\n",
       "          <i><strong>Review Score:</strong></i> 9.4<br>\n",
       "          <i><strong>Rating (out of 5):</strong></i> 4<br>\n",
       "          <i><strong>Address:</strong></i> Viale Tunisia 9, 20124 Milan, Milano<br>\n",
       "      </div>\n",
       "  </div>\n",
       "  "
      ],
      "text/plain": [
       "<IPython.core.display.HTML object>"
      ]
     },
     "metadata": {},
     "output_type": "display_data"
    },
    {
     "data": {
      "text/html": [
       "\n",
       "  <div style=\"display: flex; align-items: center; margin-bottom: 20px;\">\n",
       "          <img src=\"https://content.r9cdn.net/rimg/himg/5e/97/82/expedia_group-86382-127880571-358163.jpg?width=510&height=510&crop=true\" alt=\"Urban Hive Milano\" style=\"width: 200px; height: auto; margin-right: 20px;\">\n",
       "      <div>\n",
       "          <h4 style=\"font-size:18px\"> <strong>Urban Hive Milano</strong></h4><br>\n",
       "          <i><strong>Price (in $):</strong></i> 1326.0<br>\n",
       "          <i><strong>Review Score:</strong></i> 9.2<br>\n",
       "          <i><strong>Rating (out of 5):</strong></i> 4<br>\n",
       "          <i><strong>Address:</strong></i> Corso Garibaldi Giuseppe 84, 20121 Milan, Milano<br>\n",
       "      </div>\n",
       "  </div>\n",
       "  "
      ],
      "text/plain": [
       "<IPython.core.display.HTML object>"
      ]
     },
     "metadata": {},
     "output_type": "display_data"
    },
    {
     "data": {
      "text/html": [
       "\n",
       "  <div style=\"display: flex; align-items: center; margin-bottom: 20px;\">\n",
       "          <img src=\"https://content.r9cdn.net/rimg/himg/be/af/d7/expedia_group-428257-8a662b-994036.jpg?width=510&height=510&crop=true\" alt=\"Chateau Monfort\" style=\"width: 200px; height: auto; margin-right: 20px;\">\n",
       "      <div>\n",
       "          <h4 style=\"font-size:18px\"> <strong>Chateau Monfort</strong></h4><br>\n",
       "          <i><strong>Price (in $):</strong></i> 1622.0<br>\n",
       "          <i><strong>Review Score:</strong></i> 9.0<br>\n",
       "          <i><strong>Rating (out of 5):</strong></i> 5<br>\n",
       "          <i><strong>Address:</strong></i> Corso Concordia 1, 20129 Milan, Milano<br>\n",
       "      </div>\n",
       "  </div>\n",
       "  "
      ],
      "text/plain": [
       "<IPython.core.display.HTML object>"
      ]
     },
     "metadata": {},
     "output_type": "display_data"
    },
    {
     "data": {
      "text/html": [
       "\n",
       "  <div style=\"display: flex; align-items: center; margin-bottom: 20px;\">\n",
       "          <img src=\"https://content.r9cdn.net/rimg/himg/fb/4a/8c/leonardo-72490146-1.Roof_Deck_O-420785.jpg?width=510&height=510&crop=true\" alt=\"Magna Pars l'Hotel à Parfum, Small Luxury Hotels of the World\" style=\"width: 200px; height: auto; margin-right: 20px;\">\n",
       "      <div>\n",
       "          <h4 style=\"font-size:18px\"> <strong>Magna Pars l'Hotel à Parfum, Small Luxury Hotels of the World</strong></h4><br>\n",
       "          <i><strong>Price (in $):</strong></i> 1735.0<br>\n",
       "          <i><strong>Review Score:</strong></i> 9.0<br>\n",
       "          <i><strong>Rating (out of 5):</strong></i> 5<br>\n",
       "          <i><strong>Address:</strong></i> Via Forcella 6, 20144 Milan, Milano<br>\n",
       "      </div>\n",
       "  </div>\n",
       "  "
      ],
      "text/plain": [
       "<IPython.core.display.HTML object>"
      ]
     },
     "metadata": {},
     "output_type": "display_data"
    },
    {
     "data": {
      "text/html": [
       "\n",
       "  <div style=\"display: flex; align-items: center; margin-bottom: 20px;\">\n",
       "          <img src=\"https://content.r9cdn.net/rimg/himg/23/63/fe/expediav2-143683-36b4dd-053539.jpg?width=510&height=510&crop=true\" alt=\"iQ Hotel Milano\" style=\"width: 200px; height: auto; margin-right: 20px;\">\n",
       "      <div>\n",
       "          <h4 style=\"font-size:18px\"> <strong>iQ Hotel Milano</strong></h4><br>\n",
       "          <i><strong>Price (in $):</strong></i> 815.0<br>\n",
       "          <i><strong>Review Score:</strong></i> 9.0<br>\n",
       "          <i><strong>Rating (out of 5):</strong></i> 4<br>\n",
       "          <i><strong>Address:</strong></i> Via Giovanni Battista Pirelli 5, 20124 Milan, Milano<br>\n",
       "      </div>\n",
       "  </div>\n",
       "  "
      ],
      "text/plain": [
       "<IPython.core.display.HTML object>"
      ]
     },
     "metadata": {},
     "output_type": "display_data"
    },
    {
     "data": {
      "text/html": [
       "\n",
       "  <div style=\"display: flex; align-items: center; margin-bottom: 20px;\">\n",
       "          <img src=\"https://content.r9cdn.net/rimg/himg/be/d1/81/expedia_group-2731805-114045604-472620.jpg?width=510&height=510&crop=true\" alt=\"Hotel Viu Milan\" style=\"width: 200px; height: auto; margin-right: 20px;\">\n",
       "      <div>\n",
       "          <h4 style=\"font-size:18px\"> <strong>Hotel Viu Milan</strong></h4><br>\n",
       "          <i><strong>Price (in $):</strong></i> 1336.0<br>\n",
       "          <i><strong>Review Score:</strong></i> 8.9<br>\n",
       "          <i><strong>Rating (out of 5):</strong></i> 5<br>\n",
       "          <i><strong>Address:</strong></i> Via Fioravanti, 6, 20154 Milan, Milano<br>\n",
       "      </div>\n",
       "  </div>\n",
       "  "
      ],
      "text/plain": [
       "<IPython.core.display.HTML object>"
      ]
     },
     "metadata": {},
     "output_type": "display_data"
    },
    {
     "data": {
      "text/html": [
       "\n",
       "  <div style=\"display: flex; align-items: center; margin-bottom: 20px;\">\n",
       "          <img src=\"https://content.r9cdn.net/rimg/himg/1a/20/a3/ice-7258277-104330792-812346.jpg?width=510&height=510&crop=true\" alt=\"Milano Verticale | Una Esperienze\" style=\"width: 200px; height: auto; margin-right: 20px;\">\n",
       "      <div>\n",
       "          <h4 style=\"font-size:18px\"> <strong>Milano Verticale | Una Esperienze</strong></h4><br>\n",
       "          <i><strong>Price (in $):</strong></i> 1185.0<br>\n",
       "          <i><strong>Review Score:</strong></i> 8.9<br>\n",
       "          <i><strong>Rating (out of 5):</strong></i> 4<br>\n",
       "          <i><strong>Address:</strong></i> Via Carlo de Cristoforis, 6, 20124 Milan, Milano<br>\n",
       "      </div>\n",
       "  </div>\n",
       "  "
      ],
      "text/plain": [
       "<IPython.core.display.HTML object>"
      ]
     },
     "metadata": {},
     "output_type": "display_data"
    },
    {
     "data": {
      "text/html": [
       "\n",
       "  <div style=\"display: flex; align-items: center; margin-bottom: 20px;\">\n",
       "          <img src=\"https://content.r9cdn.net/rimg/himg/d7/13/81/leonardo-2142279-70816021_4K_O-091864.jpg?width=510&height=510&crop=true\" alt=\"The Corner Duomo Hotel\" style=\"width: 200px; height: auto; margin-right: 20px;\">\n",
       "      <div>\n",
       "          <h4 style=\"font-size:18px\"> <strong>The Corner Duomo Hotel</strong></h4><br>\n",
       "          <i><strong>Price (in $):</strong></i> 1472.0<br>\n",
       "          <i><strong>Review Score:</strong></i> 8.7<br>\n",
       "          <i><strong>Rating (out of 5):</strong></i> 4<br>\n",
       "          <i><strong>Address:</strong></i> Via Adalberto Catena, 2, 20121 Milan, Milano<br>\n",
       "      </div>\n",
       "  </div>\n",
       "  "
      ],
      "text/plain": [
       "<IPython.core.display.HTML object>"
      ]
     },
     "metadata": {},
     "output_type": "display_data"
    },
    {
     "data": {
      "text/html": [
       "\n",
       "  <div style=\"display: flex; align-items: center; margin-bottom: 20px;\">\n",
       "          <img src=\"https://content.r9cdn.net/rimg/himg/12/1a/ed/leonardo-57208-148004268-063399.jpg?width=510&height=510&crop=true\" alt=\"Excelsior Hotel Gallia, a Luxury Collection Hotel, Milan\" style=\"width: 200px; height: auto; margin-right: 20px;\">\n",
       "      <div>\n",
       "          <h4 style=\"font-size:18px\"> <strong>Excelsior Hotel Gallia, a Luxury Collection Hotel, Milan</strong></h4><br>\n",
       "          <i><strong>Price (in $):</strong></i> 2324.0<br>\n",
       "          <i><strong>Review Score:</strong></i> 8.7<br>\n",
       "          <i><strong>Rating (out of 5):</strong></i> 5<br>\n",
       "          <i><strong>Address:</strong></i> Piazza Duca D Aosta 9, 20124 Milan, Milano<br>\n",
       "      </div>\n",
       "  </div>\n",
       "  "
      ],
      "text/plain": [
       "<IPython.core.display.HTML object>"
      ]
     },
     "metadata": {},
     "output_type": "display_data"
    },
    {
     "data": {
      "text/html": [
       "\n",
       "  <div style=\"display: flex; align-items: center; margin-bottom: 20px;\">\n",
       "          <img src=\"https://content.r9cdn.net/rimg/himg/89/d9/f3/expedia_group-35527-171cc4e8-933395.jpg?width=510&height=510&crop=true\" alt=\"Hotel Tocq\" style=\"width: 200px; height: auto; margin-right: 20px;\">\n",
       "      <div>\n",
       "          <h4 style=\"font-size:18px\"> <strong>Hotel Tocq</strong></h4><br>\n",
       "          <i><strong>Price (in $):</strong></i> 873.0<br>\n",
       "          <i><strong>Review Score:</strong></i> 8.7<br>\n",
       "          <i><strong>Rating (out of 5):</strong></i> 4<br>\n",
       "          <i><strong>Address:</strong></i> Via A. De Tocqueville 7/d, 20154 Milan, Milano<br>\n",
       "      </div>\n",
       "  </div>\n",
       "  "
      ],
      "text/plain": [
       "<IPython.core.display.HTML object>"
      ]
     },
     "metadata": {},
     "output_type": "display_data"
    },
    {
     "name": "stdout",
     "output_type": "stream",
     "text": [
      "\n",
      "\n",
      "Enter full name of the hotel to see more details: Milano Verticale | Una Esperienze\n",
      "\n",
      "\n",
      " +++++++++++++++++++++++ More detailed info +++++++++++++++++++\n"
     ]
    },
    {
     "data": {
      "text/html": [
       "\n",
       "  <div style=\"display: flex; align-items: center; margin-bottom: 20px;\">\n",
       "          <img src=\"https://content.r9cdn.net/rimg/himg/1a/20/a3/ice-7258277-104330792-812346.jpg?width=510&height=510&crop=true\" alt=\"Milano Verticale | Una Esperienze\" style=\"width: 200px; height: auto; margin-right: 20px;\">\n",
       "      <div>\n",
       "          <h4 style=\"font-size:18px\"> <strong>Milano Verticale | Una Esperienze</strong></h4><br>\n",
       "          <i><strong>Price (in $):</strong></i> 1185.0<br>\n",
       "          <i><strong>Review Score:</strong></i> 8.9<br>\n",
       "          <i><strong>Rating (out of 5):</strong></i> 4<br>\n",
       "          <i><strong>Address:</strong></i> Via Carlo de Cristoforis, 6, 20124 Milan, Milano<br>\n",
       "      </div>\n",
       "  </div>\n",
       "  "
      ],
      "text/plain": [
       "<IPython.core.display.HTML object>"
      ]
     },
     "metadata": {},
     "output_type": "display_data"
    },
    {
     "name": "stdout",
     "output_type": "stream",
     "text": [
      "Here some more photos of the hotel :)\n"
     ]
    },
    {
     "data": {
      "text/html": [
       "\n",
       "    <div style=\"display: flex; align-items: center; margin-bottom: 20px;\">\n",
       "    \n",
       "        <div style=\"margin-right: 20px;\">\n",
       "            <img src=\"https://content.r9cdn.net/rimg/himg/d6/c4/5b/ice-7258277-104336865-529166.jpg?width=510&height=510&crop=true\" alt=\"Milano Verticale | Una Esperienze\" style=\"width: 200px; height: auto;\">\n",
       "        </div>\n",
       "        \n",
       "        <div style=\"margin-right: 20px;\">\n",
       "            <img src=\"https://content.r9cdn.net/rimg/himg/98/e9/e8/ice-7258277-104336857-590211.jpg?width=510&height=510&crop=true\" alt=\"Milano Verticale | Una Esperienze\" style=\"width: 200px; height: auto;\">\n",
       "        </div>\n",
       "        \n",
       "    </div>\n",
       "    \n",
       "    <div>\n",
       "        <p style=\"font-size: 16px; color: #555;\">Milano Verticale | UNA Esperienze is a 4* superior hotel with an international character for business and leisure, whose taste is rooted in modern Milanese tradition while combining an eclectic mix of contemporary excellence in Italian fashion, desig…iHotelier/iStayRead more</p>\n",
       "    </div>\n",
       "    "
      ],
      "text/plain": [
       "<IPython.core.display.HTML object>"
      ]
     },
     "metadata": {},
     "output_type": "display_data"
    }
   ],
   "source": [
    "from IPython.display import Image, display, HTML\n",
    "\n",
    "price_min = float(input(\"Enter lowest price value: \"))\n",
    "price_max = float(input(\"Enter highest price value: \"))\n",
    "review_min = float(input(\"Enter minimum review score value (1 - 10): \"))\n",
    "review_max = float(input(\"Enter maximum review score value (1 - 10): \"))\n",
    "rating_min = int(input(\"Enter the minimum hotel rating (out of 5) value: \"))\n",
    "\n",
    "\n",
    "\n",
    "# Filtering the DataFrame based on user input\n",
    "new_df = df[(df['price (in $)'] >= price_min) & (df['price (in $)'] <= price_max) &\n",
    "            (df['review score'] >= review_min) & (df['review score'] <= review_max) &\n",
    "            (df['rating (out of 5)'].astype('int') >= rating_min)\n",
    "           ]\n",
    "\n",
    "def sort_by(input_value):\n",
    "    if input_value == 1:\n",
    "        return \"price (in $)\"\n",
    "    if input_value == 2:\n",
    "        return \"review score\"\n",
    "    if input_value == 3:\n",
    "        return \"rating (out of 5)\"\n",
    "    else:\n",
    "        return \"price (in $)\"\n",
    "        \n",
    "input_value = float(input(\"How do you want it to be sorted by?: \\n Enter 1 to sort it by price  \\n Enter 2 to sort it by review score \\n Enter 3 to sort it by rating \\n\"))\n",
    "\n",
    "# Sorting by price and distance in a ascending order but\n",
    "# sort them in descending order if sorted by review score \n",
    "asc = False\n",
    "if input_value == 1:\n",
    "    asc = True\n",
    "sorted_df = new_df.sort_values(by=sort_by(input_value), ascending=asc)\n",
    "\n",
    "# Output the first sorted 10 hotels \n",
    "result = sorted_df.head(10)\n",
    "\n",
    "print(f\"\\n======================= RESULTS sorted by {sort_by(input_value)}=========================\\n\")\n",
    "\n",
    "\n",
    "# Checking if the search parameter doesn't hold true\n",
    "def display_hotel_details(row):\n",
    "  image = None\n",
    "  if row['images']:\n",
    "        image = row['images'][0]\n",
    "  html = f\"\"\"\n",
    "  <div style=\"display: flex; align-items: center; margin-bottom: 20px;\">\n",
    "          <img src=\"{image}\" alt=\"{row['name']}\" style=\"width: 200px; height: auto; margin-right: 20px;\">\n",
    "      <div>\n",
    "          <h4 style=\"font-size:18px\"> <strong>{row['name']}</strong></h4><br>\n",
    "          <i><strong>Price (in $):</strong></i> {row['price (in $)']}<br>\n",
    "          <i><strong>Review Score:</strong></i> {row['review score']}<br>\n",
    "          <i><strong>Rating (out of 5):</strong></i> {row['rating (out of 5)']}<br>\n",
    "          <i><strong>Address:</strong></i> {row['address']}<br>\n",
    "      </div>\n",
    "  </div>\n",
    "  \"\"\"\n",
    "  display(HTML(html))\n",
    "\n",
    "    \n",
    "# Display three more pictures of the hotel when a user wants to see details of a particular hotel    \n",
    "def display_more_hotel_pictures(row):\n",
    "    print(\"Here some more photos of the hotel :)\")\n",
    "    html = \"\"\"\n",
    "    <div style=\"display: flex; align-items: center; margin-bottom: 20px;\">\n",
    "    \"\"\"\n",
    "    for i in range(1, len(row['images'])):\n",
    "        html += f\"\"\"\n",
    "        <div style=\"margin-right: 20px;\">\n",
    "            <img src=\"{row['images'][i]}\" alt=\"{row['name']}\" style=\"width: 200px; height: auto;\">\n",
    "        </div>\n",
    "        \"\"\"\n",
    "    html += \"\"\"\n",
    "    </div>\n",
    "    \"\"\"\n",
    "    \n",
    "    html += f\"\"\"\n",
    "    <div>\n",
    "        <p style=\"font-size: 16px; color: #555;\">{row['summary']}</p>\n",
    "    </div>\n",
    "    \"\"\"\n",
    "    \n",
    "    display(HTML(html))\n",
    "\n",
    "# Check result is not empty        \n",
    "if result.empty:\n",
    "  print(\"Nothing to display :)\")\n",
    "else:\n",
    "  # Call a function to display the hotel details of  \n",
    "  for index, row in result.iterrows():\n",
    "      display_hotel_details(row)\n",
    "  print(\"\\n\")\n",
    "  hotel_name = input(\"Enter full name of the hotel to see more details: \")\n",
    "  hotel = df[df['name']==hotel_name]\n",
    "    \n",
    "  # Change the dataframe to series  \n",
    "  if not hotel.empty:\n",
    "    hotel = hotel.iloc[0,:]\n",
    "    print(\"\\n\\n +++++++++++++++++++++++ More detailed info +++++++++++++++++++\")\n",
    "    display_hotel_details(hotel)\n",
    "    display_more_hotel_pictures(hotel)\n",
    "  else: \n",
    "    print(\"\\n Try another name or please write the full name of the hotel\")\n",
    "    "
   ]
  },
  {
   "cell_type": "code",
   "execution_count": null,
   "metadata": {},
   "outputs": [],
   "source": []
  }
 ],
 "metadata": {
  "colab": {
   "provenance": []
  },
  "kernelspec": {
   "display_name": "Python 3 (ipykernel)",
   "language": "python",
   "name": "python3"
  },
  "language_info": {
   "codemirror_mode": {
    "name": "ipython",
    "version": 3
   },
   "file_extension": ".py",
   "mimetype": "text/x-python",
   "name": "python",
   "nbconvert_exporter": "python",
   "pygments_lexer": "ipython3",
   "version": "3.9.13"
  }
 },
 "nbformat": 4,
 "nbformat_minor": 1
}
